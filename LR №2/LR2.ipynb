{
 "cells": [
  {
   "cell_type": "markdown",
   "metadata": {},
   "source": [
    "# Предел, непрерывность, ряды"
   ]
  },
  {
   "cell_type": "code",
   "execution_count": 57,
   "metadata": {},
   "outputs": [],
   "source": [
    "import math\n",
    "from sympy import Symbol, limit, oo, sin, sqrt, solve, factorial, symbols, cos, exp, asin, atan, diff, solve, pi\n",
    "import numpy as np"
   ]
  },
  {
   "cell_type": "markdown",
   "metadata": {},
   "source": [
    "## Пример 1"
   ]
  },
  {
   "cell_type": "code",
   "execution_count": 58,
   "metadata": {},
   "outputs": [
    {
     "name": "stdout",
     "output_type": "stream",
     "text": [
      "2\n"
     ]
    }
   ],
   "source": [
    "x = Symbol(\"x\")\n",
    "print(limit((6*x**2+3*x)/(3*x**2),x,oo))"
   ]
  },
  {
   "cell_type": "markdown",
   "metadata": {},
   "source": [
    "## Пример 2"
   ]
  },
  {
   "cell_type": "code",
   "execution_count": 10,
   "metadata": {},
   "outputs": [
    {
     "name": "stdout",
     "output_type": "stream",
     "text": [
      "1\n"
     ]
    }
   ],
   "source": [
    "print(limit(sin(x)/x,x,0))"
   ]
  },
  {
   "cell_type": "code",
   "execution_count": 12,
   "metadata": {},
   "outputs": [
    {
     "name": "stdout",
     "output_type": "stream",
     "text": [
      "E\n"
     ]
    }
   ],
   "source": [
    "print(limit((1+x)**(1/x),x,0))"
   ]
  },
  {
   "cell_type": "code",
   "execution_count": 16,
   "metadata": {},
   "outputs": [
    {
     "name": "stdout",
     "output_type": "stream",
     "text": [
      "E\n"
     ]
    }
   ],
   "source": [
    "print(limit((1+1/x)**x,x,oo))"
   ]
  },
  {
   "cell_type": "markdown",
   "metadata": {},
   "source": [
    "## Односторонние пределы"
   ]
  },
  {
   "cell_type": "code",
   "execution_count": 21,
   "metadata": {},
   "outputs": [
    {
     "name": "stdout",
     "output_type": "stream",
     "text": [
      "-oo\n"
     ]
    }
   ],
   "source": [
    "print(limit(1/x,x,0,'-'))"
   ]
  },
  {
   "cell_type": "markdown",
   "metadata": {},
   "source": [
    "## Пример 3"
   ]
  },
  {
   "cell_type": "code",
   "execution_count": 24,
   "metadata": {},
   "outputs": [
    {
     "name": "stdout",
     "output_type": "stream",
     "text": [
      "oo\n"
     ]
    }
   ],
   "source": [
    "print(limit((2**x-1)/(x**2-3*x),x,3,'+'))"
   ]
  },
  {
   "cell_type": "code",
   "execution_count": 25,
   "metadata": {},
   "outputs": [
    {
     "name": "stdout",
     "output_type": "stream",
     "text": [
      "-oo\n"
     ]
    }
   ],
   "source": [
    "print(limit((2**x-1)/(x**2-3*x),x,3,'-'))"
   ]
  },
  {
   "cell_type": "markdown",
   "metadata": {},
   "source": [
    "## Пример 4"
   ]
  },
  {
   "cell_type": "code",
   "execution_count": 26,
   "metadata": {},
   "outputs": [
    {
     "name": "stdout",
     "output_type": "stream",
     "text": [
      "5/3\n"
     ]
    }
   ],
   "source": [
    "print(limit((5**x-5*7**x)/(4*5**x-3*7**x),x,oo))"
   ]
  },
  {
   "cell_type": "code",
   "execution_count": 29,
   "metadata": {},
   "outputs": [
    {
     "name": "stdout",
     "output_type": "stream",
     "text": [
      "7/6\n"
     ]
    }
   ],
   "source": [
    "print(limit((7*8**x+2*9**x)/(6*8**x-6*9**x),x,-oo))"
   ]
  },
  {
   "cell_type": "code",
   "execution_count": 32,
   "metadata": {},
   "outputs": [
    {
     "name": "stdout",
     "output_type": "stream",
     "text": [
      "-3/2\n"
     ]
    }
   ],
   "source": [
    "print(limit (sqrt(x*(x+3))-sqrt( x**2+9), x,-oo))"
   ]
  },
  {
   "cell_type": "markdown",
   "metadata": {},
   "source": [
    "## Пример 5"
   ]
  },
  {
   "cell_type": "code",
   "execution_count": 35,
   "metadata": {},
   "outputs": [
    {
     "name": "stdout",
     "output_type": "stream",
     "text": [
      "[0, 2, 7]\n"
     ]
    }
   ],
   "source": [
    "print(solve(x**3-9*x**2+14*x))"
   ]
  },
  {
   "cell_type": "code",
   "execution_count": 37,
   "metadata": {},
   "outputs": [
    {
     "name": "stdout",
     "output_type": "stream",
     "text": [
      "oo\n",
      "oo\n"
     ]
    }
   ],
   "source": [
    "print(limit(abs((x-2)*(x-7)/(x**3-9*x**2+14*x)),x,0,'-'))\n",
    "print(limit(abs((x-2)*(x-7)/(x**3-9*x**2+14*x)),x,0,'+' ))"
   ]
  },
  {
   "cell_type": "code",
   "execution_count": 38,
   "metadata": {},
   "outputs": [
    {
     "name": "stdout",
     "output_type": "stream",
     "text": [
      "1/2\n",
      "1/2\n"
     ]
    }
   ],
   "source": [
    "print(limit(abs((x-2)*(x-7)/(x**3-9*x**2+14*x)),x, 2,'-'))\n",
    "print(limit(abs((x-2)*(x-7)/(x**3-9*x**2+14*x)),x,2,'+'))"
   ]
  },
  {
   "cell_type": "code",
   "execution_count": 40,
   "metadata": {},
   "outputs": [
    {
     "name": "stdout",
     "output_type": "stream",
     "text": [
      "1/7\n",
      "1/7\n"
     ]
    }
   ],
   "source": [
    "print(limit(abs((x-2)*(x-7)/(x**3-9*x**2+14*x)),x,7,'-'))\n",
    "print(limit(abs((x-2)*(x-7)/(x**3-9*x**2+14*x)),x,7,'+'))"
   ]
  },
  {
   "cell_type": "markdown",
   "metadata": {},
   "source": [
    "## Пример 6"
   ]
  },
  {
   "cell_type": "code",
   "execution_count": 41,
   "metadata": {},
   "outputs": [
    {
     "name": "stdout",
     "output_type": "stream",
     "text": [
      "0\n"
     ]
    }
   ],
   "source": [
    "k = limit((1+5*x)/(3+x)/x,x,oo)\n",
    "print(k)"
   ]
  },
  {
   "cell_type": "code",
   "execution_count": 42,
   "metadata": {},
   "outputs": [
    {
     "name": "stdout",
     "output_type": "stream",
     "text": [
      "5\n"
     ]
    }
   ],
   "source": [
    "b = limit((1+5*x)/(3+x)-k*x,x,oo)\n",
    "print(b)"
   ]
  },
  {
   "cell_type": "code",
   "execution_count": 43,
   "metadata": {},
   "outputs": [
    {
     "name": "stdout",
     "output_type": "stream",
     "text": [
      "[-3]\n"
     ]
    }
   ],
   "source": [
    "print(solve(3+x))"
   ]
  },
  {
   "cell_type": "code",
   "execution_count": 46,
   "metadata": {},
   "outputs": [
    {
     "name": "stdout",
     "output_type": "stream",
     "text": [
      "oo\n"
     ]
    }
   ],
   "source": [
    "print(limit((1+5*x)/(3+x),x,-3, '-'))"
   ]
  },
  {
   "cell_type": "code",
   "execution_count": 49,
   "metadata": {},
   "outputs": [
    {
     "name": "stdout",
     "output_type": "stream",
     "text": [
      "-oo\n"
     ]
    }
   ],
   "source": [
    "print(limit((1+5*x)/(3+x),x,-3, '+'))"
   ]
  },
  {
   "cell_type": "markdown",
   "metadata": {},
   "source": [
    "## Ряды. Пример 7"
   ]
  },
  {
   "cell_type": "code",
   "execution_count": 54,
   "metadata": {},
   "outputs": [
    {
     "data": {
      "text/latex": [
       "$\\displaystyle \\infty$"
      ],
      "text/plain": [
       "oo"
      ]
     },
     "execution_count": 54,
     "metadata": {},
     "output_type": "execute_result"
    }
   ],
   "source": [
    "x=symbols('x')\n",
    "limit(1/factorial(x)/(1/factorial(x+1)),x,oo)"
   ]
  },
  {
   "cell_type": "markdown",
   "metadata": {},
   "source": [
    "## Пример 8"
   ]
  },
  {
   "cell_type": "code",
   "execution_count": 56,
   "metadata": {},
   "outputs": [
    {
     "name": "stdout",
     "output_type": "stream",
     "text": [
      "exp(-1)\n"
     ]
    }
   ],
   "source": [
    "x=Symbol('x')\n",
    "print(limit(x**x/factorial(x)/((x+1)**(x+1)/factorial(x+1)),x,oo))"
   ]
  },
  {
   "cell_type": "markdown",
   "metadata": {},
   "source": [
    "## Пример 9"
   ]
  },
  {
   "cell_type": "code",
   "execution_count": 59,
   "metadata": {},
   "outputs": [
    {
     "name": "stdout",
     "output_type": "stream",
     "text": [
      "x - x**3/6 + x**5/120 - x**7/5040 + x**9/362880 + O(x**10)\n"
     ]
    }
   ],
   "source": [
    "х = symbols('x')\n",
    "func = sin(x)\n",
    "x0 = 0\n",
    "print((func).series(x, x0, 10))"
   ]
  },
  {
   "cell_type": "code",
   "execution_count": 62,
   "metadata": {},
   "outputs": [
    {
     "name": "stdout",
     "output_type": "stream",
     "text": [
      "1 - x**2/2 + x**4/24 - x**6/720 + x**8/40320 + O(x**10)\n"
     ]
    }
   ],
   "source": [
    "func = cos(x)\n",
    "x0 = 0\n",
    "print((func).series(x, x0, 10))"
   ]
  },
  {
   "cell_type": "code",
   "execution_count": 64,
   "metadata": {},
   "outputs": [
    {
     "name": "stdout",
     "output_type": "stream",
     "text": [
      "1 + x + x**2/2 + x**3/6 + x**4/24 + x**5/120 + x**6/720 + x**7/5040 + x**8/40320 + x**9/362880 + O(x**10)\n"
     ]
    }
   ],
   "source": [
    "func = exp(x)\n",
    "x0 = 0\n",
    "print((func).series(x, x0, 10))"
   ]
  },
  {
   "cell_type": "code",
   "execution_count": 66,
   "metadata": {},
   "outputs": [
    {
     "name": "stdout",
     "output_type": "stream",
     "text": [
      "x + x**3/6 + 3*x**5/40 + 5*x**7/112 + 35*x**9/1152 + O(x**10)\n"
     ]
    }
   ],
   "source": [
    "func = asin(x)\n",
    "x0 = 0\n",
    "print((func).series(x, x0, 10))"
   ]
  },
  {
   "cell_type": "markdown",
   "metadata": {},
   "source": [
    "## Примеры решения задач"
   ]
  },
  {
   "cell_type": "markdown",
   "metadata": {},
   "source": [
    "Вычислить предел последовательности $\\lim_{n\\to\\infty} \\frac{n^2 -3n}{-5n^3 + 4n^2 +9}$"
   ]
  },
  {
   "cell_type": "code",
   "execution_count": 59,
   "metadata": {},
   "outputs": [
    {
     "name": "stdout",
     "output_type": "stream",
     "text": [
      "0\n"
     ]
    }
   ],
   "source": [
    "n = symbols('n')\n",
    "print(limit((n**2-3*n)/(-5*n**3+4*n**2+9),n,oo))"
   ]
  },
  {
   "cell_type": "markdown",
   "metadata": {},
   "source": [
    " Вычислить предел последовательности $\\lim_{n\\to\\infty} \\frac{\\sqrt{25n^2 + 3n -2} - \\sqrt{16n^2 + n + 4}}{3n + 2}$"
   ]
  },
  {
   "cell_type": "code",
   "execution_count": 60,
   "metadata": {},
   "outputs": [
    {
     "name": "stdout",
     "output_type": "stream",
     "text": [
      "1/3\n"
     ]
    }
   ],
   "source": [
    "print(limit((sqrt(25*n**2+3*n-2)-sqrt(16*n**2+n+4))/(3*n+2),n,oo))"
   ]
  },
  {
   "cell_type": "markdown",
   "metadata": {},
   "source": [
    " Вычислить предел последовательности $\\lim_{n\\to\\infty} (1 - \\frac{3}{n})^{-8n}$"
   ]
  },
  {
   "cell_type": "code",
   "execution_count": 61,
   "metadata": {},
   "outputs": [
    {
     "name": "stdout",
     "output_type": "stream",
     "text": [
      "exp(24)\n"
     ]
    }
   ],
   "source": [
    "print(limit((1-3/n)**(-8*n),n,oo))"
   ]
  },
  {
   "cell_type": "markdown",
   "metadata": {},
   "source": [
    " Вычислить предел $\\lim_{x\\to\\infty} \\frac{-5x^2-8x-4}{2x^2-x-2}$"
   ]
  },
  {
   "cell_type": "code",
   "execution_count": 56,
   "metadata": {},
   "outputs": [
    {
     "name": "stdout",
     "output_type": "stream",
     "text": [
      "-5/2\n"
     ]
    }
   ],
   "source": [
    "x = symbols('x')\n",
    "print(limit((-5*x**2-8*x-4)/(2*x**2-x-2),x,oo))"
   ]
  },
  {
   "cell_type": "markdown",
   "metadata": {},
   "source": [
    " Вычислить предел $\\lim_{x\\to\\infty} (\\sqrt{x^2 + 1} - \\sqrt{x^2 + 5})\\arctan{(3x^4 - 1)}$"
   ]
  },
  {
   "cell_type": "code",
   "execution_count": 76,
   "metadata": {},
   "outputs": [
    {
     "name": "stdout",
     "output_type": "stream",
     "text": [
      "0\n"
     ]
    }
   ],
   "source": [
    "print(limit((sqrt(x**2+1)-sqrt(x**2+5))*atan(3*x**4-1),x,oo))"
   ]
  },
  {
   "cell_type": "markdown",
   "metadata": {},
   "source": [
    " Вычислить предел $\\lim_{x\\to 0} \\frac{6\\sin^2{9x}}{\\cos{4x}-1}$"
   ]
  },
  {
   "cell_type": "code",
   "execution_count": 77,
   "metadata": {},
   "outputs": [
    {
     "name": "stdout",
     "output_type": "stream",
     "text": [
      "-243/4\n"
     ]
    }
   ],
   "source": [
    "print(limit(6*sin(9*x)**2/(cos(4*x)-1),x,0))"
   ]
  },
  {
   "cell_type": "markdown",
   "metadata": {},
   "source": [
    " Вычислить предел $\\lim_{x\\to 1} \\frac{9(1 - x^{\\frac{1}{7}})}{x^{\\frac{1}{8}} - 1}$"
   ]
  },
  {
   "cell_type": "code",
   "execution_count": 79,
   "metadata": {},
   "outputs": [
    {
     "name": "stdout",
     "output_type": "stream",
     "text": [
      "-10.2857142857143\n"
     ]
    }
   ],
   "source": [
    "print(limit(9*(1-х**(1/7))/(х**(1/8)-1), x,1))"
   ]
  },
  {
   "cell_type": "markdown",
   "metadata": {},
   "source": [
    "## Решение собственной задачи с ипсользованием пределов"
   ]
  },
  {
   "cell_type": "markdown",
   "metadata": {},
   "source": [
    "Допустим, мы хотим определить непрерывность следующей функции при $x = \\frac{\\pi}{2}$:\n",
    "\n",
    "$f(x) = \\frac{(x*sin(3x))}{(2-x)}.$\n",
    "\n",
    "Чтобы определить непрерывность этой функции при $x = \\frac{\\pi}{2}$, нам нужно выполнить три условия:\n",
    "\n",
    "$f(\\frac{\\pi}{2})$ должна быть определена (т.е. знаменатель не может быть равен 0).\n",
    "Левосторонний предел $f(x)$ при приближении $x$ к $\\frac{\\pi}{2}$ должен существовать и быть конечным.\n",
    "Правый предел $f(x)$ при приближении $x$ к $\\frac{\\pi}{2}$ должен существовать и быть конечным.\n",
    "Если все три условия выполнены, то функция непрерывна при $x = \\frac{\\pi}{2}$."
   ]
  },
  {
   "cell_type": "code",
   "execution_count": 52,
   "metadata": {},
   "outputs": [],
   "source": [
    "import sympy as sp\n",
    "import math\n",
    "import matplotlib.pyplot as plt\n",
    "import warnings\n",
    "warnings.filterwarnings('ignore')\n",
    "%matplotlib inline "
   ]
  },
  {
   "cell_type": "markdown",
   "metadata": {},
   "source": [
    "Описание функции"
   ]
  },
  {
   "cell_type": "code",
   "execution_count": 45,
   "metadata": {},
   "outputs": [
    {
     "data": {
      "text/latex": [
       "$\\displaystyle \\frac{x \\sin{\\left(3 x \\right)}}{2 - x}$"
      ],
      "text/plain": [
       "x*sin(3*x)/(2 - x)"
      ]
     },
     "execution_count": 45,
     "metadata": {},
     "output_type": "execute_result"
    }
   ],
   "source": [
    "x = sp.symbols('x')\n",
    "f = (x*sp.sin(3*x))/(2-x)\n",
    "f"
   ]
  },
  {
   "cell_type": "markdown",
   "metadata": {},
   "source": [
    "Далее мы можем оценить каждое из трех условий с помощью функции $sp.limit()$:"
   ]
  },
  {
   "cell_type": "code",
   "execution_count": 46,
   "metadata": {},
   "outputs": [
    {
     "name": "stdout",
     "output_type": "stream",
     "text": [
      "Условие 1: функция f(pi/2) определена.\n"
     ]
    }
   ],
   "source": [
    "f_pi_2 = f.subs(x, sp.pi/2)\n",
    "if math.isfinite(f_pi_2):\n",
    "    print(\"Условие 1: функция f(pi/2) определена.\")"
   ]
  },
  {
   "cell_type": "code",
   "execution_count": 63,
   "metadata": {},
   "outputs": [
    {
     "name": "stdout",
     "output_type": "stream",
     "text": [
      "Условие 2: левосторонний предел функции f(x) при приближении х к pi/2 существует и конечен.\n"
     ]
    },
    {
     "data": {
      "image/png": "[encoded data removed]",
      "text/plain": [
       "<Figure size 432x288 with 1 Axes>"
      ]
     },
     "metadata": {
      "needs_background": "light"
     },
     "output_type": "display_data"
    }
   ],
   "source": [
    "f_left = sp.limit(f, x, sp.pi/2, dir='-')\n",
    "if math.isfinite(f_left):\n",
    "    print(\"Условие 2: левосторонний предел функции f(x) при приближении х к pi/2 существует и конечен.\")\n",
    "    x_vals = np.linspace(1, 2, 100)\n",
    "    y_vals = [(x**3 - x)/(x - 1) for x in x_vals]\n",
    "    plt.plot(x_vals, y_vals, label='f(x)')\n",
    "    plt.axvline(x=2, linestyle='--', color='gray')\n",
    "    plt.axhline(y=f_left, linestyle='--', color='red', label='Левосторонний предел')\n",
    "    plt.legend()\n",
    "    plt.show()"
   ]
  },
  {
   "cell_type": "code",
   "execution_count": 62,
   "metadata": {},
   "outputs": [
    {
     "name": "stdout",
     "output_type": "stream",
     "text": [
      "Условие 3: Правосторонний предел функции f(x) при приближении х к pi/2 существует и конечен.\n"
     ]
    },
    {
     "data": {
      "image/png": "[encoded data removed]",
      "text/plain": [
       "<Figure size 432x288 with 1 Axes>"
      ]
     },
     "metadata": {
      "needs_background": "light"
     },
     "output_type": "display_data"
    }
   ],
   "source": [
    "f_right = sp.limit(f, x, sp.pi/2, dir='+')\n",
    "if math.isfinite(f_right):\n",
    "    print(\"Условие 3: Правосторонний предел функции f(x) при приближении х к pi/2 существует и конечен.\")\n",
    "    x_vals = np.linspace(2, 3, 100)\n",
    "    y_vals = [(x**3 - x)/(x - 1) for x in x_vals]\n",
    "    plt.plot(x_vals, y_vals, label='f(x)')\n",
    "    plt.axvline(x=2, linestyle='--', color='gray')\n",
    "    plt.axhline(y=f_right, linestyle='--', color='blue', label='Правосторонний предел')\n",
    "    plt.legend()\n",
    "    plt.show()"
   ]
  }
 ],
 "metadata": {
  "kernelspec": {
   "display_name": "Python 3",
   "language": "python",
   "name": "python3"
  },
  "language_info": {
   "codemirror_mode": {
    "name": "ipython",
    "version": 3
   },
   "file_extension": ".py",
   "mimetype": "text/x-python",
   "name": "python",
   "nbconvert_exporter": "python",
   "pygments_lexer": "ipython3",
   "version": "3.8.8"
  }
 },
 "nbformat": 4,
 "nbformat_minor": 4
}
