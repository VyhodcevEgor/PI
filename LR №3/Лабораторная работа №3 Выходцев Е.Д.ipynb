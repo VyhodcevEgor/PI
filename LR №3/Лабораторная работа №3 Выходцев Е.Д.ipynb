{
 "cells": [
  {
   "cell_type": "markdown",
   "id": "d7dc698d",
   "metadata": {},
   "source": [
    "# Производная"
   ]
  },
  {
   "cell_type": "code",
   "execution_count": 1,
   "id": "5edc3a46",
   "metadata": {},
   "outputs": [],
   "source": [
    "from sympy import *\n",
    "import numpy as np\n",
    "from scipy.optimize import minimize\n",
    "from scipy.stats import norm\n",
    "import matplotlib.pyplot as plt\n",
    "from mpl_toolkits.mplot3d import Axes3D\n",
    "import warnings\n",
    "warnings.filterwarnings('ignore')\n",
    "%matplotlib inline "
   ]
  },
  {
   "cell_type": "code",
   "execution_count": 2,
   "id": "e8fcdb9a",
   "metadata": {},
   "outputs": [],
   "source": [
    "def tangent(y, x0):\n",
    "    y0 = y.subs(x, x0)\n",
    "    x1 = x0 + 1\n",
    "    k = diff(y,x).subs(x,x0)\n",
    "    y1 = y0 + k\n",
    "    return Line((x0,y0), (x1,y1))"
   ]
  },
  {
   "cell_type": "markdown",
   "id": "12ae852c",
   "metadata": {},
   "source": [
    "## Пример 1\n",
    "Производная функции $y=x \\cos x$"
   ]
  },
  {
   "cell_type": "code",
   "execution_count": 3,
   "id": "9fdb0317",
   "metadata": {},
   "outputs": [
    {
     "data": {
      "text/latex": [
       "$\\displaystyle - x \\sin{\\left(x \\right)} + \\cos{\\left(x \\right)}$"
      ],
      "text/plain": [
       "-x*sin(x) + cos(x)"
      ]
     },
     "execution_count": 3,
     "metadata": {},
     "output_type": "execute_result"
    }
   ],
   "source": [
    "x = symbols('x')\n",
    "у = x*cos(x)\n",
    "diff(x*cos(x), x)"
   ]
  },
  {
   "cell_type": "markdown",
   "id": "cd82399d",
   "metadata": {},
   "source": [
    "## Пример 2\n",
    "Производная 3-го порядка функции $y=\\ln x$."
   ]
  },
  {
   "cell_type": "code",
   "execution_count": 4,
   "id": "56fb0809",
   "metadata": {},
   "outputs": [
    {
     "data": {
      "text/latex": [
       "$\\displaystyle \\frac{2}{x^{3}}$"
      ],
      "text/plain": [
       "2/x**3"
      ]
     },
     "execution_count": 4,
     "metadata": {},
     "output_type": "execute_result"
    }
   ],
   "source": [
    "diff(log(x), x, 3)"
   ]
  },
  {
   "cell_type": "markdown",
   "id": "4a3a404a",
   "metadata": {},
   "source": [
    "## Пример 3\n",
    "Найти значение $y^{\\prime \\prime}(10)$ для функции $y=\\lg ^3\\left(x^3\\right)$."
   ]
  },
  {
   "cell_type": "code",
   "execution_count": 5,
   "id": "71cc547e",
   "metadata": {},
   "outputs": [
    {
     "data": {
      "text/latex": [
       "$\\displaystyle - \\frac{9 \\left(-6 + \\log{\\left(1000 \\right)}\\right) \\log{\\left(1000 \\right)}}{100 \\log{\\left(10 \\right)}^{3}}$"
      ],
      "text/plain": [
       "-9*(-6 + log(1000))*log(1000)/(100*log(10)**3)"
      ]
     },
     "execution_count": 5,
     "metadata": {},
     "output_type": "execute_result"
    }
   ],
   "source": [
    "y = log(x**3,10)**3\n",
    "diff(y,x,2).subs(x,10)"
   ]
  },
  {
   "cell_type": "code",
   "execution_count": 6,
   "id": "ae739b03",
   "metadata": {},
   "outputs": [
    {
     "data": {
      "text/latex": [
       "$\\displaystyle \\frac{81 \\left(2 - \\log{\\left(10 \\right)}\\right)}{100 \\log{\\left(10 \\right)}^{2}}$"
      ],
      "text/plain": [
       "81*(2 - log(10))/(100*log(10)**2)"
      ]
     },
     "execution_count": 6,
     "metadata": {},
     "output_type": "execute_result"
    }
   ],
   "source": [
    "diff(y,x,2).subs(x,10).simplify()"
   ]
  },
  {
   "cell_type": "markdown",
   "id": "b1c66610",
   "metadata": {},
   "source": [
    "## Пример 4\n",
    "Решить уравнение $y^{\\prime}=0$, где $y(x)=\\frac{x^2+x-6}{x^2-10 x+25}$"
   ]
  },
  {
   "cell_type": "code",
   "execution_count": 7,
   "id": "ec2efa7c",
   "metadata": {},
   "outputs": [
    {
     "data": {
      "text/latex": [
       "$\\displaystyle \\frac{9 \\log{\\left(x^{3} \\right)}^{2}}{x \\log{\\left(10 \\right)}^{3}}$"
      ],
      "text/plain": [
       "9*log(x**3)**2/(x*log(10)**3)"
      ]
     },
     "execution_count": 7,
     "metadata": {},
     "output_type": "execute_result"
    }
   ],
   "source": [
    "у = (x**2+x-6)/(x**2-10*x+25)\n",
    "z = diff(y,x)\n",
    "z"
   ]
  },
  {
   "cell_type": "code",
   "execution_count": 8,
   "id": "300c59bb",
   "metadata": {},
   "outputs": [
    {
     "data": {
      "text/plain": [
       "[1, -1/2 - sqrt(3)*I/2, -1/2 + sqrt(3)*I/2]"
      ]
     },
     "execution_count": 8,
     "metadata": {},
     "output_type": "execute_result"
    }
   ],
   "source": [
    "solve(z, x)"
   ]
  },
  {
   "cell_type": "markdown",
   "id": "1d88b948",
   "metadata": {},
   "source": [
    "## Пример 5\n",
    "Найти первую производную $\\frac{d y}{d x}$ и вторую производную $\\frac{d^2 y}{d x^2}$ для функции, заданной неявно в виде уравнения: $x^2+y^2=4$."
   ]
  },
  {
   "cell_type": "code",
   "execution_count": 9,
   "id": "77795d76",
   "metadata": {},
   "outputs": [
    {
     "data": {
      "text/latex": [
       "$\\displaystyle - \\frac{x}{y}$"
      ],
      "text/plain": [
       "-x/y"
      ]
     },
     "execution_count": 9,
     "metadata": {},
     "output_type": "execute_result"
    }
   ],
   "source": [
    "x = symbols('x')\n",
    "y = symbols('y')\n",
    "f = x**2 + y**2 - 4\n",
    "idiff(f, y, x)"
   ]
  },
  {
   "cell_type": "code",
   "execution_count": 10,
   "id": "7d40df32",
   "metadata": {},
   "outputs": [
    {
     "data": {
      "text/latex": [
       "$\\displaystyle \\frac{- \\frac{x^{2}}{y} - y}{y^{2}}$"
      ],
      "text/plain": [
       "(-x**2/y - y)/y**2"
      ]
     },
     "execution_count": 10,
     "metadata": {},
     "output_type": "execute_result"
    }
   ],
   "source": [
    "f = x**2 + y**2 - 4\n",
    "idiff(f, y, x, 2)"
   ]
  },
  {
   "cell_type": "code",
   "execution_count": 11,
   "id": "ff1164dc",
   "metadata": {},
   "outputs": [
    {
     "data": {
      "text/latex": [
       "$\\displaystyle - \\frac{x^{2} + y^{2}}{y^{3}}$"
      ],
      "text/plain": [
       "-(x**2 + y**2)/y**3"
      ]
     },
     "execution_count": 11,
     "metadata": {},
     "output_type": "execute_result"
    }
   ],
   "source": [
    "idiff(f, y, x, 2).simplify()"
   ]
  },
  {
   "cell_type": "markdown",
   "id": "35a1c1ed",
   "metadata": {},
   "source": [
    "## Пример 6\n",
    "Найти $y_x^{\\prime}$ и $y_{x x}^{\\prime \\prime}$ для функции, заданной в параметрической форме:\n",
    "$$\n",
    "\\left\\{\\begin{array}{l}\n",
    "x=t-\\sin t \\\\\n",
    "y=1-\\cos t\n",
    "\\end{array}\\right.\n",
    "$$"
   ]
  },
  {
   "cell_type": "code",
   "execution_count": 12,
   "id": "4e866b54",
   "metadata": {},
   "outputs": [
    {
     "data": {
      "text/latex": [
       "$\\displaystyle \\frac{\\sin{\\left(t \\right)}}{1 - \\cos{\\left(t \\right)}}$"
      ],
      "text/plain": [
       "sin(t)/(1 - cos(t))"
      ]
     },
     "execution_count": 12,
     "metadata": {},
     "output_type": "execute_result"
    }
   ],
   "source": [
    "t = symbols('t')\n",
    "x = t - sin(t)\n",
    "y = 1 - cos(t)\n",
    "y_diff = diff(y,t)/diff(x,t)\n",
    "y_diff"
   ]
  },
  {
   "cell_type": "code",
   "execution_count": 13,
   "id": "ccadad97",
   "metadata": {},
   "outputs": [
    {
     "data": {
      "text/latex": [
       "$\\displaystyle - \\frac{1}{\\left(\\cos{\\left(t \\right)} - 1\\right)^{2}}$"
      ],
      "text/plain": [
       "-1/(cos(t) - 1)**2"
      ]
     },
     "execution_count": 13,
     "metadata": {},
     "output_type": "execute_result"
    }
   ],
   "source": [
    "y_2diff = diff(y_diff,t)/diff(x,t)\n",
    "y_2diff.simplify()"
   ]
  },
  {
   "cell_type": "markdown",
   "id": "a2e3574e",
   "metadata": {},
   "source": [
    "## Пример 7\n",
    "Найти левую и правую производные функции $f(x)$ в точке ее разрыва, если\n",
    "$$\n",
    "f(x)=\\left\\{\\begin{aligned}\n",
    "\\operatorname{arctg}\\left(\\frac{1}{x}\\right), & x \\neq 0 \\\\\n",
    "-\\frac{\\pi}{2}, & x=0\n",
    "\\end{aligned}\\right.\n",
    "$$"
   ]
  },
  {
   "cell_type": "code",
   "execution_count": 14,
   "id": "696109f6",
   "metadata": {},
   "outputs": [
    {
     "data": {
      "image/png": "[encoded data removed]",
      "text/plain": [
       "<Figure size 432x288 with 1 Axes>"
      ]
     },
     "metadata": {
      "needs_background": "light"
     },
     "output_type": "display_data"
    }
   ],
   "source": [
    "x = np.linspace(-2,2,500)\n",
    "x[(x>-0.01) & (x < 0.01)] = np.nan\n",
    "y = np.arctan(1/x)\n",
    "plt.plot(x,y)\n",
    "plt.xlabel('$х$')\n",
    "plt.ylabel('$у$')\n",
    "plt.vlines(0, -1.6, 1.6, color='g', linestyles='dashed')\n",
    "plt.show()"
   ]
  },
  {
   "cell_type": "code",
   "execution_count": 15,
   "id": "048adb52",
   "metadata": {},
   "outputs": [
    {
     "data": {
      "text/latex": [
       "$\\displaystyle -1$"
      ],
      "text/plain": [
       "-1"
      ]
     },
     "execution_count": 15,
     "metadata": {},
     "output_type": "execute_result"
    }
   ],
   "source": [
    "x = symbols('x')\n",
    "y = atan(1/x)\n",
    "z = diff(y,x)\n",
    "limit(z, x, 0, dir='+')"
   ]
  },
  {
   "cell_type": "code",
   "execution_count": 16,
   "id": "96ec62e8",
   "metadata": {},
   "outputs": [
    {
     "data": {
      "text/latex": [
       "$\\displaystyle -1$"
      ],
      "text/plain": [
       "-1"
      ]
     },
     "execution_count": 16,
     "metadata": {},
     "output_type": "execute_result"
    }
   ],
   "source": [
    "limit(z, x, 0, dir='-')"
   ]
  },
  {
   "cell_type": "markdown",
   "id": "8f116a14",
   "metadata": {},
   "source": [
    "## Пример 8\n",
    "Провести касательную к графику функции $$y = x^2$$ в точке с абсциссой $$x_{0} = 2$$."
   ]
  },
  {
   "cell_type": "code",
   "execution_count": 17,
   "id": "712c7baa",
   "metadata": {},
   "outputs": [
    {
     "data": {
      "image/png": "[encoded data removed]",
      "text/plain": [
       "<Figure size 432x288 with 1 Axes>"
      ]
     },
     "metadata": {
      "needs_background": "light"
     },
     "output_type": "display_data"
    }
   ],
   "source": [
    "x = np.linspace(-3,4,50)\n",
    "y1 = x**2\n",
    "plt.plot(x,y1,lw=2,c='b')\n",
    "x = np.linspace(-1,4,50)\n",
    "y2 = 4*x - 4\n",
    "plt.plot(x,y2,c='r')\n",
    "plt.xlabel('$х$')\n",
    "plt.ylabel('$у$')\n",
    "plt.grid(True, linestyle='-', color='0.4')\n",
    "plt.show()"
   ]
  },
  {
   "cell_type": "markdown",
   "id": "b238a9bc",
   "metadata": {},
   "source": [
    "## Пример 9 \n",
    "Найти уравнение касательной и нормали к графику функции $y=6 \\sqrt[3]{x}+2 \\sqrt{x}$ в точке с абсциссой $x_0=64$."
   ]
  },
  {
   "cell_type": "code",
   "execution_count": 18,
   "id": "2f71e965",
   "metadata": {},
   "outputs": [
    {
     "data": {
      "image/png": "[encoded data removed]",
      "text/plain": [
       "<Figure size 432x288 with 1 Axes>"
      ]
     },
     "metadata": {
      "needs_background": "light"
     },
     "output_type": "display_data"
    }
   ],
   "source": [
    "x = np.linspace(0,120,50)\n",
    "y1 = 6*x**(1/3) + 2*x**(1/2)\n",
    "plt.plot(x,y1,lw=2,c='r')\n",
    "x = np.linspace(10,120,50)\n",
    "y2 = x/4 + 24\n",
    "plt.plot(x,y2,'--',lw=2,c='b')\n",
    "x = np.linspace(60,70,50)\n",
    "y3 = 296 - 4*x\n",
    "plt.plot(x,y3,'-.',lw=2,c='g')\n",
    "plt.xlabel('x')\n",
    "plt.ylabel('y')\n",
    "plt.grid(True, linestyle='-', color='0.4')\n",
    "plt.axis('equal')\n",
    "plt.show()"
   ]
  },
  {
   "cell_type": "markdown",
   "id": "a2ea9964",
   "metadata": {},
   "source": [
    "## Пример 10\n",
    "Из точки $A$(—4;0) провести касательную к кривой $y = \\sqrt{x}$"
   ]
  },
  {
   "cell_type": "code",
   "execution_count": 19,
   "id": "d5ded35b",
   "metadata": {},
   "outputs": [
    {
     "data": {
      "image/png": "[encoded data removed]",
      "text/plain": [
       "<Figure size 432x288 with 1 Axes>"
      ]
     },
     "metadata": {
      "needs_background": "light"
     },
     "output_type": "display_data"
    }
   ],
   "source": [
    "x = np.linspace(0,7,50)\n",
    "y1 = np.sqrt(x)\n",
    "plt.plot(x,y1,lw=2,c='b')\n",
    "x = np.linspace(-4,7,50)\n",
    "y2 = x/4 + 1\n",
    "plt.plot(x,y2,c='r')\n",
    "plt.xlabel('$x$')\n",
    "plt.ylabel('$y$')\n",
    "plt.grid (True, linestyle='-', color='0.4')\n",
    "plt.show()"
   ]
  },
  {
   "cell_type": "markdown",
   "id": "fd435579",
   "metadata": {},
   "source": [
    "## Исследование функции"
   ]
  },
  {
   "cell_type": "code",
   "execution_count": 20,
   "id": "1722ecd1",
   "metadata": {},
   "outputs": [
    {
     "data": {
      "image/png": "[encoded data removed]",
      "text/plain": [
       "<Figure size 432x288 with 1 Axes>"
      ]
     },
     "metadata": {
      "needs_background": "light"
     },
     "output_type": "display_data"
    }
   ],
   "source": [
    "t = np.linspace(-1.5, 5, 100)\n",
    "f = t**3 - 5*t**2 + 5\n",
    "fd = 3*t**2 - 10*t\n",
    "fdd = 6*t - 10\n",
    "plt.plot(t,f,lw=2,color='red',label = \"$y(x)$\")\n",
    "plt.plot(t,fd,'--',lw=2,color='b',label = \"$y^{'}(x)$\")\n",
    "plt.plot(t,fdd, '-.', color='g',label = \"$y^{''}(x)$\")\n",
    "plt.plot([0], [0], 'o', color='y')\n",
    "plt.plot([0], [5], 'o', color='y')\n",
    "plt.plot([3.3], [0], 'o', color='y')\n",
    "plt.plot([3.3], [-13.4], 'o', color='y')\n",
    "plt.plot([1.65], [0], 'o', color='b')\n",
    "plt.plot([1.65], [-4], 'o', color='b')\n",
    "plt.grid(True, linestyle='-', color='0.4')\n",
    "plt.xlabel('x')\n",
    "plt.ylabel('y')\n",
    "plt.legend()\n",
    "plt.show()"
   ]
  },
  {
   "cell_type": "markdown",
   "id": "e6ba7422",
   "metadata": {},
   "source": [
    "## Пример 11\n",
    "Решить неравенство $x^2<3$."
   ]
  },
  {
   "cell_type": "code",
   "execution_count": 21,
   "id": "3ac1f46a",
   "metadata": {},
   "outputs": [
    {
     "data": {
      "text/latex": [
       "$\\displaystyle - \\sqrt{3} < x \\wedge x < \\sqrt{3}$"
      ],
      "text/plain": [
       "(x < sqrt(3)) & (-sqrt(3) < x)"
      ]
     },
     "execution_count": 21,
     "metadata": {},
     "output_type": "execute_result"
    }
   ],
   "source": [
    "x, y = symbols('x y')\n",
    "solve(x**2 < 3)"
   ]
  },
  {
   "cell_type": "markdown",
   "id": "d09538d5",
   "metadata": {},
   "source": [
    "## Пример 12\n",
    "Решить уравнение $x^2 — y^2 = 0$ относительно переменной $x$."
   ]
  },
  {
   "cell_type": "code",
   "execution_count": 22,
   "id": "908ad7ff",
   "metadata": {},
   "outputs": [
    {
     "data": {
      "text/plain": [
       "[-y, y]"
      ]
     },
     "execution_count": 22,
     "metadata": {},
     "output_type": "execute_result"
    }
   ],
   "source": [
    "solve(x**2 - y**2, x)"
   ]
  },
  {
   "cell_type": "markdown",
   "id": "ad3ceaf4",
   "metadata": {},
   "source": [
    "## Пример 13\n",
    "Исследовать на экстремум функцию $y = e^{-x} - e^{-2x}$."
   ]
  },
  {
   "cell_type": "code",
   "execution_count": 23,
   "id": "ede6bc84",
   "metadata": {},
   "outputs": [
    {
     "data": {
      "image/png": "[encoded data removed]",
      "text/plain": [
       "<Figure size 432x288 with 1 Axes>"
      ]
     },
     "metadata": {
      "needs_background": "light"
     },
     "output_type": "display_data"
    }
   ],
   "source": [
    "f = lambda х: np.exp(-x) - np.exp(-2*x)\n",
    "x = np.linspace(0.1,4,50)\n",
    "plt.plot(x, f(x), 'r')\n",
    "plt.xlabel('$x$')\n",
    "plt.ylabel('$y$')\n",
    "plt.grid(True, linestyle='-', color='0.4')\n",
    "plt.show()"
   ]
  },
  {
   "cell_type": "code",
   "execution_count": 24,
   "id": "e5f429db",
   "metadata": {},
   "outputs": [
    {
     "data": {
      "text/plain": [
       "      fun: -0.24999999999945666\n",
       " hess_inv: array([[1.98553383]])\n",
       "      jac: array([-7.26431608e-07])\n",
       "  message: 'Optimization terminated successfully.'\n",
       "     nfev: 26\n",
       "      nit: 12\n",
       "     njev: 13\n",
       "   status: 0\n",
       "  success: True\n",
       "        x: array([0.69314571])"
      ]
     },
     "execution_count": 24,
     "metadata": {},
     "output_type": "execute_result"
    }
   ],
   "source": [
    "f_max = lambda x: -(np.exp(-x) - np.exp(-2*x))\n",
    "res = minimize(f_max, -2)\n",
    "res"
   ]
  },
  {
   "cell_type": "markdown",
   "id": "1f3fb1c9",
   "metadata": {},
   "source": [
    "## Пример 14\n",
    "Исследовать на экстремум функцию $y = x^3$."
   ]
  },
  {
   "cell_type": "code",
   "execution_count": 25,
   "id": "e26d32a9",
   "metadata": {
    "scrolled": false
   },
   "outputs": [
    {
     "name": "stdout",
     "output_type": "stream",
     "text": [
      "x0: 0 y(x0): 0\n"
     ]
    }
   ],
   "source": [
    "x = symbols('x')\n",
    "y = x**3\n",
    "x0 = solve(diff(y,x))[0]\n",
    "print(f'x0: {x0} y(x0): {y.subs(x, x0)}')"
   ]
  },
  {
   "cell_type": "code",
   "execution_count": 26,
   "id": "7a66d132",
   "metadata": {},
   "outputs": [
    {
     "data": {
      "text/latex": [
       "$\\displaystyle 0$"
      ],
      "text/plain": [
       "0"
      ]
     },
     "execution_count": 26,
     "metadata": {},
     "output_type": "execute_result"
    }
   ],
   "source": [
    "diff(y,x,2).subs(x,x0)"
   ]
  },
  {
   "cell_type": "code",
   "execution_count": 27,
   "id": "09302173",
   "metadata": {},
   "outputs": [
    {
     "data": {
      "text/latex": [
       "$\\displaystyle \\frac{246}{3125}$"
      ],
      "text/plain": [
       "246/3125"
      ]
     },
     "execution_count": 27,
     "metadata": {},
     "output_type": "execute_result"
    }
   ],
   "source": [
    "diff(у,x,3).subs(x,x0)"
   ]
  },
  {
   "cell_type": "code",
   "execution_count": 28,
   "id": "e2a4c4f5",
   "metadata": {},
   "outputs": [
    {
     "data": {
      "image/png": "[encoded data removed]",
      "text/plain": [
       "<Figure size 432x288 with 1 Axes>"
      ]
     },
     "metadata": {
      "needs_background": "light"
     },
     "output_type": "display_data"
    }
   ],
   "source": [
    "x = np.linspace(-1,1,50)\n",
    "plt.plot(x, x**3, 'r')\n",
    "plt.xlabel('$X$')\n",
    "plt.ylabel('$Y$')\n",
    "plt.grid(True, linestyle='-', color='0.4')\n",
    "plt.show()"
   ]
  },
  {
   "cell_type": "markdown",
   "id": "8ee54161",
   "metadata": {},
   "source": [
    "## Пример 15\n",
    "Найти экстремум функции $y=\\frac{x^3+3 x^2-1}{x^2+1}$."
   ]
  },
  {
   "cell_type": "code",
   "execution_count": 29,
   "id": "97a87f87",
   "metadata": {},
   "outputs": [
    {
     "data": {
      "image/png": "[encoded data removed]",
      "text/plain": [
       "<Figure size 432x288 with 1 Axes>"
      ]
     },
     "metadata": {
      "needs_background": "light"
     },
     "output_type": "display_data"
    }
   ],
   "source": [
    "f = lambda x: (x**3+3*x**2-1) / (x**2+1)\n",
    "x = np.linspace(-3,2,50)\n",
    "plt.plot(x, f(x), 'r')\n",
    "plt.xlabel('$X$')\n",
    "plt.ylabel('$Y$')\n",
    "plt.grid(True, linestyle='-', color='0.4')\n",
    "plt.show()"
   ]
  },
  {
   "cell_type": "code",
   "execution_count": 30,
   "id": "fa08411c",
   "metadata": {},
   "outputs": [
    {
     "name": "stdout",
     "output_type": "stream",
     "text": [
      "x_min: 0.0000 f_min: -1.0000\n"
     ]
    }
   ],
   "source": [
    "res = minimize(f, 1)\n",
    "print(f'x_min: {res.x[0]:.4f} f_min: {f(res.x)[0]:.4f}')"
   ]
  },
  {
   "cell_type": "code",
   "execution_count": 31,
   "id": "f2e4613f",
   "metadata": {},
   "outputs": [
    {
     "name": "stdout",
     "output_type": "stream",
     "text": [
      "x_max: -1.5127 f_max: 0.7309\n"
     ]
    }
   ],
   "source": [
    "f_max = lambda х: -(х**3+3*х**2-1) / (х**2+1)\n",
    "res = minimize(f_max, -2)\n",
    "print(f'x_max: {res.x[0]:.4f} f_max: {f(res.x)[0]:.4f}')"
   ]
  },
  {
   "cell_type": "markdown",
   "id": "fa9b9414",
   "metadata": {},
   "source": [
    "## Пример 16\n",
    "Найти наибольшее и наименьшее значения функции $f(x)$ на отрезке:$f(x)=\\sqrt[3]{2(x+1)^{2}(5-x)}-2 ; x \\in[-3 ; 3]$"
   ]
  },
  {
   "cell_type": "code",
   "execution_count": 32,
   "id": "9554fe8b",
   "metadata": {},
   "outputs": [
    {
     "data": {
      "image/png": "[encoded data removed]",
      "text/plain": [
       "<Figure size 432x288 with 1 Axes>"
      ]
     },
     "metadata": {
      "needs_background": "light"
     },
     "output_type": "display_data"
    }
   ],
   "source": [
    "fun = lambda x: np.cbrt(2*(x+1)**2*(5-x)) - 2\n",
    "х = np.linspace(-3, 3, 100)\n",
    "plt.xlabel('X')\n",
    "plt.ylabel('Y')\n",
    "plt.plot(x, fun(x), 'r')\n",
    "plt.grid(True, linestyle='-', color='0.4')\n",
    "plt.show()"
   ]
  },
  {
   "cell_type": "code",
   "execution_count": 33,
   "id": "56eb07b8",
   "metadata": {},
   "outputs": [
    {
     "name": "stdout",
     "output_type": "stream",
     "text": [
      "x_min: -0.490\n"
     ]
    }
   ],
   "source": [
    "res = minimize(fun, -1.5)\n",
    "print(f'x_min: {res.x[0]:.3f}')"
   ]
  },
  {
   "cell_type": "code",
   "execution_count": 34,
   "id": "d284be28",
   "metadata": {},
   "outputs": [
    {
     "name": "stdout",
     "output_type": "stream",
     "text": [
      "x_min: -1.001\n"
     ]
    }
   ],
   "source": [
    "res = minimize(fun, -1.001)\n",
    "print(f'x_min: {res.x[0]:.3f}')"
   ]
  },
  {
   "cell_type": "code",
   "execution_count": 35,
   "id": "a5a4514e",
   "metadata": {},
   "outputs": [
    {
     "name": "stdout",
     "output_type": "stream",
     "text": [
      "y(-3): 2.000 y(3): 2.000\n"
     ]
    }
   ],
   "source": [
    "print(f'y(-3): {fun(-3):.3f} y(3): {fun(-3):.3f}')"
   ]
  },
  {
   "cell_type": "markdown",
   "id": "17efb2c5",
   "metadata": {},
   "source": [
    "## Пример 17\n",
    "Найти точки перегиба и исследовать характер выпуклости кривой $y=x^{4}(12 \\ln x-7)$."
   ]
  },
  {
   "cell_type": "code",
   "execution_count": 36,
   "id": "025aa328",
   "metadata": {},
   "outputs": [
    {
     "data": {
      "image/png": "[encoded data removed]",
      "text/plain": [
       "<Figure size 432x288 with 1 Axes>"
      ]
     },
     "metadata": {
      "needs_background": "light"
     },
     "output_type": "display_data"
    }
   ],
   "source": [
    "f = lambda х: х**4 * (12*np.log(x) - 7)\n",
    "x = np.linspace(0.001,2,50)\n",
    "plt.plot(x, f(x), 'r')\n",
    "plt.xlabel('$X$')\n",
    "plt.ylabel('$Y$')\n",
    "plt.grid(True, linestyle='-', color='0.4')\n",
    "plt.show()"
   ]
  },
  {
   "cell_type": "code",
   "execution_count": 37,
   "id": "eee38715",
   "metadata": {},
   "outputs": [
    {
     "data": {
      "text/latex": [
       "$\\displaystyle 144 x^{2} \\log{\\left(x \\right)}$"
      ],
      "text/plain": [
       "144*x**2*log(x)"
      ]
     },
     "execution_count": 37,
     "metadata": {},
     "output_type": "execute_result"
    }
   ],
   "source": [
    "x = symbols('x')\n",
    "y = x**4 * (12*log(x) - 7)\n",
    "y_2deriv = diff(y,x,2)\n",
    "y_2deriv"
   ]
  },
  {
   "cell_type": "code",
   "execution_count": 38,
   "id": "4f2a37ac",
   "metadata": {},
   "outputs": [
    {
     "data": {
      "text/plain": [
       "[0, 1]"
      ]
     },
     "execution_count": 38,
     "metadata": {},
     "output_type": "execute_result"
    }
   ],
   "source": [
    "x_inflex = solve(y_2deriv, x)\n",
    "x_inflex"
   ]
  },
  {
   "cell_type": "code",
   "execution_count": 39,
   "id": "48047c82",
   "metadata": {},
   "outputs": [
    {
     "data": {
      "text/latex": [
       "$\\displaystyle 144$"
      ],
      "text/plain": [
       "144"
      ]
     },
     "execution_count": 39,
     "metadata": {},
     "output_type": "execute_result"
    }
   ],
   "source": [
    "diff(y,x,3).subs(x, 1)"
   ]
  },
  {
   "cell_type": "code",
   "execution_count": 40,
   "id": "4d5b1d03",
   "metadata": {},
   "outputs": [
    {
     "name": "stdout",
     "output_type": "stream",
     "text": [
      "Слева: -12.289 Справа: 16.607\n"
     ]
    }
   ],
   "source": [
    "print(f'Слева: {y_2deriv.subs(x,0.9):.3f} Справа: {y_2deriv.subs(x,1.1):.3f}')"
   ]
  },
  {
   "cell_type": "markdown",
   "id": "a5c0a460",
   "metadata": {},
   "source": [
    "## Пример 18\n",
    "Провести полное исследование функции $y=\\frac{x^{2}-16}{5(x+5)}$."
   ]
  },
  {
   "cell_type": "code",
   "execution_count": 41,
   "id": "e13ee17f",
   "metadata": {},
   "outputs": [
    {
     "data": {
      "image/png": "[encoded data removed]",
      "text/plain": [
       "<Figure size 432x288 with 1 Axes>"
      ]
     },
     "metadata": {
      "needs_background": "light"
     },
     "output_type": "display_data"
    }
   ],
   "source": [
    "x = symbols('x')\n",
    "y = (x**2-16)/(5*(x+5))\n",
    "f = lambda x: (x**2-16)/(5*(x+5))\n",
    "x = np.linspace(-12,4.6,100)\n",
    "x[(x>-5.2) & (x < -4.8)] = np.nan\n",
    "y = f(x)\n",
    "plt.plot(x,y,lw=2,color='red')\n",
    "plt.xlabel('$X$')\n",
    "plt.ylabel('$Y$')\n",
    "plt.grid(True, linestyle='-', color='0.4')\n",
    "plt.show()"
   ]
  },
  {
   "cell_type": "code",
   "execution_count": 42,
   "id": "3deabdd8",
   "metadata": {},
   "outputs": [
    {
     "data": {
      "text/latex": [
       "$\\displaystyle \\left[\\begin{array}0.304761904761905 & 0.306779839677906 & 0.308883012171189 & 0.311077290143904 & 0.313369118850322 & 0.315765596024034 & 0.318274559292237 & 0.320904688316465 & 0.323665624672657 & 0.326568113214044 & 0.329624169597136 & 0.332847279861164 & 0.336252639526242 & 0.339857441742124 & 0.343681226754482 & 0.347746308608928 & 0.352078299940624 & 0.356706762413725 & 0.361666019632855 & 0.366996182264575 & 0.372744453361638 & 0.378966808048556 & 0.385730179808348 & 0.393115341960985 & 0.401220757835569 & 0.41016780366134 & 0.420107973297588 & 0.431233004150565 & 0.443789410003645 & 0.458099838573065 & 0.474595317725753 & 0.493865478843057 & 0.516739662957381 & 0.544423617619494 & 0.578742005732031 & 0.62259649329254 & 0.680901978831109 & 0.762706013697976 & 0.886701767911677 & 1.09878205502658 & 1.54988154777573 & \\text{NaN} & \\text{NaN} & -1.37984702981539 & -0.614479638009047 & -0.316326530612243 & -0.155522744324264 & -0.0533453167814762 & 0.0186105890279805 & 0.0731271274076626 & 0.116837254822004 & 0.153557502196837 & 0.185673186572737 & 0.214788500473149 & 0.242062711679231 & 0.2684 & 0.294567256986881 & 0.321276445615232 & 0.349252060930602 & 0.379297873024205 & 0.412376237623763 & 0.449717077932364 & 0.492984114948971 & 0.5445492120899 & 0.607977819083451 & 0.688952797452109 & 0.797189695550352 & 0.95086482104373 & 1.18848963695224 & 1.60854410281317 & 2.56093160570774 & 6.86703179221159 & -8.67096774193532 & -2.53088186701047 & -1.43488388435406 & -0.976144164759721 & -0.72354983254064 & -0.56334128002934 & -0.452480759967289 & -0.371084788265214 & -0.308697412823397 & -0.25929383374611 & -0.219157185586315 & -0.185869471553923 & -0.157789404579545 & -0.133763443546473 & -0.112956933849727 & -0.0947508810259555 & -0.0786764026250113 & -0.0643717311344541 & -0.0515532055518835 & -0.0399952137901079 & -0.0295160203199991 & -0.0199675575651048 & -0.011227944692919 & -0.00319591945933992 & 0.00421336466024641 & 0.0110715515658123 & 0.0174395677535631 & 0.0233695652173913\\end{array}\\right]$"
      ],
      "text/plain": [
       "[0.304761904761905, 0.306779839677906, 0.308883012171189, 0.311077290143904, 0.313369118850322, 0.315765596024034, 0.318274559292237, 0.320904688316465, 0.323665624672657, 0.326568113214044, 0.329624169597136, 0.332847279861164, 0.336252639526242, 0.339857441742124, 0.343681226754482, 0.347746308608928, 0.352078299940624, 0.356706762413725, 0.361666019632855, 0.366996182264575, 0.372744453361638, 0.378966808048556, 0.385730179808348, 0.393115341960985, 0.401220757835569, 0.41016780366134, 0.420107973297588, 0.431233004150565, 0.443789410003645, 0.458099838573065, 0.474595317725753, 0.493865478843057, 0.516739662957381, 0.544423617619494, 0.578742005732031, 0.62259649329254, 0.680901978831109, 0.762706013697976, 0.886701767911677, 1.09878205502658, 1.54988154777573, nan, nan, -1.37984702981539, -0.614479638009047, -0.316326530612243, -0.155522744324264, -0.0533453167814762, 0.0186105890279805, 0.0731271274076626, 0.116837254822004, 0.153557502196837, 0.185673186572737, 0.214788500473149, 0.242062711679231, 0.2684, 0.294567256986881, 0.321276445615232, 0.349252060930602, 0.379297873024205, 0.412376237623763, 0.449717077932364, 0.492984114948971, 0.5445492120899, 0.607977819083451, 0.688952797452109, 0.797189695550352, 0.95086482104373, 1.18848963695224, 1.60854410281317, 2.56093160570774, 6.86703179221159, -8.67096774193532, -2.53088186701047, -1.43488388435406, -0.976144164759721, -0.72354983254064, -0.56334128002934, -0.452480759967289, -0.371084788265214, -0.308697412823397, -0.25929383374611, -0.219157185586315, -0.185869471553923, -0.157789404579545, -0.133763443546473, -0.112956933849727, -0.0947508810259555, -0.0786764026250113, -0.0643717311344541, -0.0515532055518835, -0.0399952137901079, -0.0295160203199991, -0.0199675575651048, -0.011227944692919, -0.00319591945933992, 0.00421336466024641, 0.0110715515658123, 0.0174395677535631, 0.0233695652173913]"
      ]
     },
     "execution_count": 42,
     "metadata": {},
     "output_type": "execute_result"
    }
   ],
   "source": [
    "k = limit(y/x, x, oo)\n",
    "k"
   ]
  },
  {
   "cell_type": "code",
   "execution_count": 43,
   "id": "2c652865",
   "metadata": {},
   "outputs": [
    {
     "data": {
      "image/png": "[encoded data removed]",
      "text/plain": [
       "<Figure size 432x288 with 1 Axes>"
      ]
     },
     "metadata": {
      "needs_background": "light"
     },
     "output_type": "display_data"
    }
   ],
   "source": [
    "f = lambda х: (х**2-16)/(5*(х+5))\n",
    "х = np.linspace(-12,4.6,100)\n",
    "х[(х>-5.2) & (х < -4.8)] = np.nan\n",
    "У = f(x)\n",
    "plt.plot(x,y,lw=2,color='red')\n",
    "х = np.linspace(-12.3,5.5,100)\n",
    "у = х/5 - 1\n",
    "plt.plot(х,у,'--',color='b')\n",
    "plt.plot([-5,-5],[-9,7],'--',color='b')\n",
    "plt.xlabel('$X$')\n",
    "plt.ylabel('$Y$')\n",
    "plt.grid(True, linestyle='-', color='0.4')\n",
    "plt.show()"
   ]
  },
  {
   "cell_type": "markdown",
   "id": "75cbe393",
   "metadata": {},
   "source": [
    "## Пример 19\n",
    "Провести полное исследование функции$y=\\frac{1}{3} x^{2} \\sqrt{|x+3|}$."
   ]
  },
  {
   "cell_type": "code",
   "execution_count": 44,
   "id": "68582fe1",
   "metadata": {},
   "outputs": [
    {
     "data": {
      "image/png": "[encoded data removed]",
      "text/plain": [
       "<Figure size 432x288 with 1 Axes>"
      ]
     },
     "metadata": {
      "needs_background": "light"
     },
     "output_type": "display_data"
    }
   ],
   "source": [
    "x = symbols('х')\n",
    "y = x**2*sqrt(abs(x+3))/3\n",
    "f = lambda x: x**2*np.sqrt(abs(x+3))/3\n",
    "x = np.linspace(-4.5,3,100)\n",
    "f_x = f(x)\n",
    "plt.plot(x,f_x,lw=2,color='red')\n",
    "plt.xlabel('$X$')\n",
    "plt.ylabel('$Y$')\n",
    "plt.grid(True, linestyle='-', color='0.4')\n",
    "plt.show()"
   ]
  },
  {
   "cell_type": "code",
   "execution_count": 45,
   "id": "8dc0b0fc",
   "metadata": {},
   "outputs": [
    {
     "data": {
      "text/latex": [
       "$\\displaystyle \\frac{х^{2} \\sqrt{\\left|{х + 3}\\right|}}{3}$"
      ],
      "text/plain": [
       "х**2*sqrt(Abs(х + 3))/3"
      ]
     },
     "execution_count": 45,
     "metadata": {},
     "output_type": "execute_result"
    }
   ],
   "source": [
    "y.subs(x,0)"
   ]
  },
  {
   "cell_type": "code",
   "execution_count": 46,
   "id": "406b7b35",
   "metadata": {},
   "outputs": [
    {
     "data": {
      "text/latex": [
       "$\\displaystyle \\frac{х^{2} \\sqrt{\\left|{х + 3}\\right|}}{3}$"
      ],
      "text/plain": [
       "х**2*sqrt(Abs(х + 3))/3"
      ]
     },
     "execution_count": 46,
     "metadata": {},
     "output_type": "execute_result"
    }
   ],
   "source": [
    "limit(y, х, oo)"
   ]
  },
  {
   "cell_type": "code",
   "execution_count": 47,
   "id": "036119bc",
   "metadata": {},
   "outputs": [
    {
     "data": {
      "text/latex": [
       "$\\displaystyle \\left[\\begin{array}- 0.0740740740740741 х^{2} \\sqrt{\\left|{х + 3}\\right|} & - 0.0753424657534247 х^{2} \\sqrt{\\left|{х + 3}\\right|} & - 0.0766550522648084 х^{2} \\sqrt{\\left|{х + 3}\\right|} & - 0.0780141843971631 х^{2} \\sqrt{\\left|{х + 3}\\right|} & - 0.0794223826714801 х^{2} \\sqrt{\\left|{х + 3}\\right|} & - 0.0808823529411765 х^{2} \\sqrt{\\left|{х + 3}\\right|} & - 0.0823970037453184 х^{2} \\sqrt{\\left|{х + 3}\\right|} & - 0.0839694656488549 х^{2} \\sqrt{\\left|{х + 3}\\right|} & - 0.0856031128404669 х^{2} \\sqrt{\\left|{х + 3}\\right|} & - 0.0873015873015873 х^{2} \\sqrt{\\left|{х + 3}\\right|} & - 0.0890688259109312 х^{2} \\sqrt{\\left|{х + 3}\\right|} & - 0.0909090909090909 х^{2} \\sqrt{\\left|{х + 3}\\right|} & - 0.0928270042194093 х^{2} \\sqrt{\\left|{х + 3}\\right|} & - 0.0948275862068965 х^{2} \\sqrt{\\left|{х + 3}\\right|} & - 0.0969162995594714 х^{2} \\sqrt{\\left|{х + 3}\\right|} & - 0.0990990990990991 х^{2} \\sqrt{\\left|{х + 3}\\right|} & - 0.101382488479263 х^{2} \\sqrt{\\left|{х + 3}\\right|} & - 0.10377358490566 х^{2} \\sqrt{\\left|{х + 3}\\right|} & - 0.106280193236715 х^{2} \\sqrt{\\left|{х + 3}\\right|} & - 0.108910891089109 х^{2} \\sqrt{\\left|{х + 3}\\right|} & - 0.111675126903553 х^{2} \\sqrt{\\left|{х + 3}\\right|} & - 0.114583333333333 х^{2} \\sqrt{\\left|{х + 3}\\right|} & - 0.117647058823529 х^{2} \\sqrt{\\left|{х + 3}\\right|} & - 0.120879120879121 х^{2} \\sqrt{\\left|{х + 3}\\right|} & - 0.124293785310734 х^{2} \\sqrt{\\left|{х + 3}\\right|} & - 0.127906976744186 х^{2} \\sqrt{\\left|{х + 3}\\right|} & - 0.131736526946108 х^{2} \\sqrt{\\left|{х + 3}\\right|} & - 0.135802469135802 х^{2} \\sqrt{\\left|{х + 3}\\right|} & - 0.140127388535032 х^{2} \\sqrt{\\left|{х + 3}\\right|} & - 0.144736842105263 х^{2} \\sqrt{\\left|{х + 3}\\right|} & - 0.149659863945578 х^{2} \\sqrt{\\left|{х + 3}\\right|} & - 0.154929577464789 х^{2} \\sqrt{\\left|{х + 3}\\right|} & - 0.160583941605839 х^{2} \\sqrt{\\left|{х + 3}\\right|} & - 0.166666666666667 х^{2} \\sqrt{\\left|{х + 3}\\right|} & - 0.173228346456693 х^{2} \\sqrt{\\left|{х + 3}\\right|} & - 0.180327868852459 х^{2} \\sqrt{\\left|{х + 3}\\right|} & - 0.188034188034188 х^{2} \\sqrt{\\left|{х + 3}\\right|} & - 0.196428571428571 х^{2} \\sqrt{\\left|{х + 3}\\right|} & - 0.205607476635514 х^{2} \\sqrt{\\left|{х + 3}\\right|} & - 0.215686274509804 х^{2} \\sqrt{\\left|{х + 3}\\right|} & - 0.22680412371134 х^{2} \\sqrt{\\left|{х + 3}\\right|} & - 0.239130434782609 х^{2} \\sqrt{\\left|{х + 3}\\right|} & - 0.252873563218391 х^{2} \\sqrt{\\left|{х + 3}\\right|} & - 0.268292682926829 х^{2} \\sqrt{\\left|{х + 3}\\right|} & - 0.285714285714286 х^{2} \\sqrt{\\left|{х + 3}\\right|} & - 0.305555555555556 х^{2} \\sqrt{\\left|{х + 3}\\right|} & - 0.328358208955224 х^{2} \\sqrt{\\left|{х + 3}\\right|} & - 0.354838709677419 х^{2} \\sqrt{\\left|{х + 3}\\right|} & - 0.385964912280702 х^{2} \\sqrt{\\left|{х + 3}\\right|} & - 0.423076923076923 х^{2} \\sqrt{\\left|{х + 3}\\right|} & - 0.468085106382979 х^{2} \\sqrt{\\left|{х + 3}\\right|} & - 0.523809523809524 х^{2} \\sqrt{\\left|{х + 3}\\right|} & - 0.594594594594595 х^{2} \\sqrt{\\left|{х + 3}\\right|} & - 0.687500000000001 х^{2} \\sqrt{\\left|{х + 3}\\right|} & - 0.814814814814815 х^{2} \\sqrt{\\left|{х + 3}\\right|} & - 1.0 х^{2} \\sqrt{\\left|{х + 3}\\right|} & - 1.29411764705882 х^{2} \\sqrt{\\left|{х + 3}\\right|} & - 1.83333333333334 х^{2} \\sqrt{\\left|{х + 3}\\right|} & - 3.14285714285716 х^{2} \\sqrt{\\left|{х + 3}\\right|} & - 11.0 х^{2} \\sqrt{\\left|{х + 3}\\right|} & 7.33333333333327 х^{2} \\sqrt{\\left|{х + 3}\\right|} & 2.75 х^{2} \\sqrt{\\left|{х + 3}\\right|} & 1.69230769230769 х^{2} \\sqrt{\\left|{х + 3}\\right|} & 1.22222222222222 х^{2} \\sqrt{\\left|{х + 3}\\right|} & 0.956521739130434 х^{2} \\sqrt{\\left|{х + 3}\\right|} & 0.785714285714285 х^{2} \\sqrt{\\left|{х + 3}\\right|} & 0.666666666666667 х^{2} \\sqrt{\\left|{х + 3}\\right|} & 0.578947368421052 х^{2} \\sqrt{\\left|{х + 3}\\right|} & 0.511627906976744 х^{2} \\sqrt{\\left|{х + 3}\\right|} & 0.458333333333333 х^{2} \\sqrt{\\left|{х + 3}\\right|} & 0.415094339622642 х^{2} \\sqrt{\\left|{х + 3}\\right|} & 0.379310344827586 х^{2} \\sqrt{\\left|{х + 3}\\right|} & 0.349206349206349 х^{2} \\sqrt{\\left|{х + 3}\\right|} & 0.323529411764706 х^{2} \\sqrt{\\left|{х + 3}\\right|} & 0.301369863013699 х^{2} \\sqrt{\\left|{х + 3}\\right|} & 0.282051282051282 х^{2} \\sqrt{\\left|{х + 3}\\right|} & 0.265060240963855 х^{2} \\sqrt{\\left|{х + 3}\\right|} & 0.25 х^{2} \\sqrt{\\left|{х + 3}\\right|} & 0.236559139784946 х^{2} \\sqrt{\\left|{х + 3}\\right|} & 0.224489795918367 х^{2} \\sqrt{\\left|{х + 3}\\right|} & 0.213592233009709 х^{2} \\sqrt{\\left|{х + 3}\\right|} & 0.203703703703704 х^{2} \\sqrt{\\left|{х + 3}\\right|} & 0.194690265486726 х^{2} \\sqrt{\\left|{х + 3}\\right|} & 0.186440677966102 х^{2} \\sqrt{\\left|{х + 3}\\right|} & 0.178861788617886 х^{2} \\sqrt{\\left|{х + 3}\\right|} & 0.171875 х^{2} \\sqrt{\\left|{х + 3}\\right|} & 0.165413533834586 х^{2} \\sqrt{\\left|{х + 3}\\right|} & 0.159420289855072 х^{2} \\sqrt{\\left|{х + 3}\\right|} & 0.153846153846154 х^{2} \\sqrt{\\left|{х + 3}\\right|} & 0.148648648648649 х^{2} \\sqrt{\\left|{х + 3}\\right|} & 0.143790849673203 х^{2} \\sqrt{\\left|{х + 3}\\right|} & 0.139240506329114 х^{2} \\sqrt{\\left|{х + 3}\\right|} & 0.134969325153374 х^{2} \\sqrt{\\left|{х + 3}\\right|} & 0.130952380952381 х^{2} \\sqrt{\\left|{х + 3}\\right|} & 0.127167630057803 х^{2} \\sqrt{\\left|{х + 3}\\right|} & 0.123595505617978 х^{2} \\sqrt{\\left|{х + 3}\\right|} & 0.120218579234973 х^{2} \\sqrt{\\left|{х + 3}\\right|} & 0.117021276595745 х^{2} \\sqrt{\\left|{х + 3}\\right|} & 0.113989637305699 х^{2} \\sqrt{\\left|{х + 3}\\right|} & 0.111111111111111 х^{2} \\sqrt{\\left|{х + 3}\\right|}\\end{array}\\right]$"
      ],
      "text/plain": [
       "[-0.0740740740740741*х**2*sqrt(Abs(х + 3)), -0.0753424657534247*х**2*sqrt(Abs(х + 3)), -0.0766550522648084*х**2*sqrt(Abs(х + 3)), -0.0780141843971631*х**2*sqrt(Abs(х + 3)), -0.0794223826714801*х**2*sqrt(Abs(х + 3)), -0.0808823529411765*х**2*sqrt(Abs(х + 3)), -0.0823970037453184*х**2*sqrt(Abs(х + 3)), -0.0839694656488549*х**2*sqrt(Abs(х + 3)), -0.0856031128404669*х**2*sqrt(Abs(х + 3)), -0.0873015873015873*х**2*sqrt(Abs(х + 3)), -0.0890688259109312*х**2*sqrt(Abs(х + 3)), -0.0909090909090909*х**2*sqrt(Abs(х + 3)), -0.0928270042194093*х**2*sqrt(Abs(х + 3)), -0.0948275862068965*х**2*sqrt(Abs(х + 3)), -0.0969162995594714*х**2*sqrt(Abs(х + 3)), -0.0990990990990991*х**2*sqrt(Abs(х + 3)), -0.101382488479263*х**2*sqrt(Abs(х + 3)), -0.10377358490566*х**2*sqrt(Abs(х + 3)), -0.106280193236715*х**2*sqrt(Abs(х + 3)), -0.108910891089109*х**2*sqrt(Abs(х + 3)), -0.111675126903553*х**2*sqrt(Abs(х + 3)), -0.114583333333333*х**2*sqrt(Abs(х + 3)), -0.117647058823529*х**2*sqrt(Abs(х + 3)), -0.120879120879121*х**2*sqrt(Abs(х + 3)), -0.124293785310734*х**2*sqrt(Abs(х + 3)), -0.127906976744186*х**2*sqrt(Abs(х + 3)), -0.131736526946108*х**2*sqrt(Abs(х + 3)), -0.135802469135802*х**2*sqrt(Abs(х + 3)), -0.140127388535032*х**2*sqrt(Abs(х + 3)), -0.144736842105263*х**2*sqrt(Abs(х + 3)), -0.149659863945578*х**2*sqrt(Abs(х + 3)), -0.154929577464789*х**2*sqrt(Abs(х + 3)), -0.160583941605839*х**2*sqrt(Abs(х + 3)), -0.166666666666667*х**2*sqrt(Abs(х + 3)), -0.173228346456693*х**2*sqrt(Abs(х + 3)), -0.180327868852459*х**2*sqrt(Abs(х + 3)), -0.188034188034188*х**2*sqrt(Abs(х + 3)), -0.196428571428571*х**2*sqrt(Abs(х + 3)), -0.205607476635514*х**2*sqrt(Abs(х + 3)), -0.215686274509804*х**2*sqrt(Abs(х + 3)), -0.22680412371134*х**2*sqrt(Abs(х + 3)), -0.239130434782609*х**2*sqrt(Abs(х + 3)), -0.252873563218391*х**2*sqrt(Abs(х + 3)), -0.268292682926829*х**2*sqrt(Abs(х + 3)), -0.285714285714286*х**2*sqrt(Abs(х + 3)), -0.305555555555556*х**2*sqrt(Abs(х + 3)), -0.328358208955224*х**2*sqrt(Abs(х + 3)), -0.354838709677419*х**2*sqrt(Abs(х + 3)), -0.385964912280702*х**2*sqrt(Abs(х + 3)), -0.423076923076923*х**2*sqrt(Abs(х + 3)), -0.468085106382979*х**2*sqrt(Abs(х + 3)), -0.523809523809524*х**2*sqrt(Abs(х + 3)), -0.594594594594595*х**2*sqrt(Abs(х + 3)), -0.687500000000001*х**2*sqrt(Abs(х + 3)), -0.814814814814815*х**2*sqrt(Abs(х + 3)), -1.0*х**2*sqrt(Abs(х + 3)), -1.29411764705882*х**2*sqrt(Abs(х + 3)), -1.83333333333334*х**2*sqrt(Abs(х + 3)), -3.14285714285716*х**2*sqrt(Abs(х + 3)), -11.0*х**2*sqrt(Abs(х + 3)), 7.33333333333327*х**2*sqrt(Abs(х + 3)), 2.75*х**2*sqrt(Abs(х + 3)), 1.69230769230769*х**2*sqrt(Abs(х + 3)), 1.22222222222222*х**2*sqrt(Abs(х + 3)), 0.956521739130434*х**2*sqrt(Abs(х + 3)), 0.785714285714285*х**2*sqrt(Abs(х + 3)), 0.666666666666667*х**2*sqrt(Abs(х + 3)), 0.578947368421052*х**2*sqrt(Abs(х + 3)), 0.511627906976744*х**2*sqrt(Abs(х + 3)), 0.458333333333333*х**2*sqrt(Abs(х + 3)), 0.415094339622642*х**2*sqrt(Abs(х + 3)), 0.379310344827586*х**2*sqrt(Abs(х + 3)), 0.349206349206349*х**2*sqrt(Abs(х + 3)), 0.323529411764706*х**2*sqrt(Abs(х + 3)), 0.301369863013699*х**2*sqrt(Abs(х + 3)), 0.282051282051282*х**2*sqrt(Abs(х + 3)), 0.265060240963855*х**2*sqrt(Abs(х + 3)), 0.25*х**2*sqrt(Abs(х + 3)), 0.236559139784946*х**2*sqrt(Abs(х + 3)), 0.224489795918367*х**2*sqrt(Abs(х + 3)), 0.213592233009709*х**2*sqrt(Abs(х + 3)), 0.203703703703704*х**2*sqrt(Abs(х + 3)), 0.194690265486726*х**2*sqrt(Abs(х + 3)), 0.186440677966102*х**2*sqrt(Abs(х + 3)), 0.178861788617886*х**2*sqrt(Abs(х + 3)), 0.171875*х**2*sqrt(Abs(х + 3)), 0.165413533834586*х**2*sqrt(Abs(х + 3)), 0.159420289855072*х**2*sqrt(Abs(х + 3)), 0.153846153846154*х**2*sqrt(Abs(х + 3)), 0.148648648648649*х**2*sqrt(Abs(х + 3)), 0.143790849673203*х**2*sqrt(Abs(х + 3)), 0.139240506329114*х**2*sqrt(Abs(х + 3)), 0.134969325153374*х**2*sqrt(Abs(х + 3)), 0.130952380952381*х**2*sqrt(Abs(х + 3)), 0.127167630057803*х**2*sqrt(Abs(х + 3)), 0.123595505617978*х**2*sqrt(Abs(х + 3)), 0.120218579234973*х**2*sqrt(Abs(х + 3)), 0.117021276595745*х**2*sqrt(Abs(х + 3)), 0.113989637305699*х**2*sqrt(Abs(х + 3)), 0.111111111111111*х**2*sqrt(Abs(х + 3))]"
      ]
     },
     "execution_count": 47,
     "metadata": {},
     "output_type": "execute_result"
    }
   ],
   "source": [
    "k = limit(y/x, x, oo)\n",
    "k"
   ]
  },
  {
   "cell_type": "code",
   "execution_count": 48,
   "id": "1e9f8305",
   "metadata": {},
   "outputs": [
    {
     "data": {
      "text/latex": [
       "$\\displaystyle - \\frac{х \\left(5 х + 12\\right)}{6 \\sqrt{- х - 3}}$"
      ],
      "text/plain": [
       "-х*(5*х + 12)/(6*sqrt(-х - 3))"
      ]
     },
     "execution_count": 48,
     "metadata": {},
     "output_type": "execute_result"
    }
   ],
   "source": [
    "x = symbols('х')\n",
    "y1 = x**2*sqrt(-x-3)/3\n",
    "y1_ = diff(y1,x). simplify()\n",
    "y1_"
   ]
  },
  {
   "cell_type": "code",
   "execution_count": 49,
   "id": "42c08e09",
   "metadata": {},
   "outputs": [
    {
     "data": {
      "text/latex": [
       "$\\displaystyle \\frac{\\sqrt{- х - 3} \\left(5 х^{2} + 24 х + 24\\right)}{4 \\left(х^{2} + 6 х + 9\\right)}$"
      ],
      "text/plain": [
       "sqrt(-х - 3)*(5*х**2 + 24*х + 24)/(4*(х**2 + 6*х + 9))"
      ]
     },
     "execution_count": 49,
     "metadata": {},
     "output_type": "execute_result"
    }
   ],
   "source": [
    "y2 = x**2*sqrt(x+3)/3\n",
    "y12_ = diff(y1,x,2).simplify()\n",
    "y12_"
   ]
  },
  {
   "cell_type": "code",
   "execution_count": 50,
   "id": "2f1bc690",
   "metadata": {},
   "outputs": [
    {
     "data": {
      "text/latex": [
       "$\\displaystyle \\frac{5 х^{2} + 24 х + 24}{4 \\left(х + 3\\right)^{\\frac{3}{2}}}$"
      ],
      "text/plain": [
       "(5*х**2 + 24*х + 24)/(4*(х + 3)**(3/2))"
      ]
     },
     "execution_count": 50,
     "metadata": {},
     "output_type": "execute_result"
    }
   ],
   "source": [
    "y22_ = diff(y2,x,2).simplify()\n",
    "y22_"
   ]
  },
  {
   "cell_type": "code",
   "execution_count": 51,
   "id": "ea5a5c1d",
   "metadata": {},
   "outputs": [
    {
     "data": {
      "text/plain": [
       "[-12/5 - 2*sqrt(6)/5, -12/5 + 2*sqrt(6)/5]"
      ]
     },
     "execution_count": 51,
     "metadata": {},
     "output_type": "execute_result"
    }
   ],
   "source": [
    "xp1 = solve(y12_)\n",
    "xp1"
   ]
  },
  {
   "cell_type": "code",
   "execution_count": 52,
   "id": "9e2281b6",
   "metadata": {},
   "outputs": [
    {
     "data": {
      "text/latex": [
       "$\\displaystyle -10.465$"
      ],
      "text/plain": [
       "-10.465"
      ]
     },
     "execution_count": 52,
     "metadata": {},
     "output_type": "execute_result"
    }
   ],
   "source": [
    "diff(y1, x, 3).subs(x,xp1[0]).evalf(5)"
   ]
  },
  {
   "cell_type": "code",
   "execution_count": 53,
   "id": "1e366b2a",
   "metadata": {},
   "outputs": [
    {
     "data": {
      "text/latex": [
       "$\\displaystyle 1.234 i$"
      ],
      "text/plain": [
       "1.234*I"
      ]
     },
     "execution_count": 53,
     "metadata": {},
     "output_type": "execute_result"
    }
   ],
   "source": [
    "diff(y1, x, 3).subs(x,xp1[1]).evalf(4)"
   ]
  },
  {
   "cell_type": "code",
   "execution_count": 54,
   "id": "bc8af130",
   "metadata": {},
   "outputs": [
    {
     "data": {
      "image/png": "[encoded data removed]",
      "text/plain": [
       "<Figure size 432x288 with 1 Axes>"
      ]
     },
     "metadata": {
      "needs_background": "light"
     },
     "output_type": "display_data"
    }
   ],
   "source": [
    "f = lambda х: x**2*np.sqrt(abs(x+3))/3\n",
    "x = np.linspace(-4.5,3,2000)\n",
    "f_x = f(x)\n",
    "plt.plot(x,f_x,lw=2,color='red')\n",
    "plt.xlabel('$X$')\n",
    "plt.ylabel('$Y$')\n",
    "plt.grid(True, linestyle='-', color='0.4')\n",
    "plt.show()"
   ]
  },
  {
   "cell_type": "markdown",
   "id": "6d51852a",
   "metadata": {},
   "source": [
    "## Пример 20\n",
    "Вычислить частные производные $ \\frac{\\partial^{2} z}{\\partial x^{2}}$ и $\\frac{\\partial^{2} z}{\\partial y^{2}}$ функции $z=x y^{2}+e^{-x}$"
   ]
  },
  {
   "cell_type": "code",
   "execution_count": 55,
   "id": "14ef3fee",
   "metadata": {},
   "outputs": [],
   "source": [
    "x, y = symbols(\"x y\")\n",
    "z = x*y**2 + exp(-x)"
   ]
  },
  {
   "cell_type": "code",
   "execution_count": 56,
   "id": "747d0c7a",
   "metadata": {},
   "outputs": [
    {
     "data": {
      "text/latex": [
       "$\\displaystyle e^{- x}$"
      ],
      "text/plain": [
       "exp(-x)"
      ]
     },
     "execution_count": 56,
     "metadata": {},
     "output_type": "execute_result"
    }
   ],
   "source": [
    "diff(z, x, 2)"
   ]
  },
  {
   "cell_type": "code",
   "execution_count": 57,
   "id": "0e36fbcb",
   "metadata": {},
   "outputs": [
    {
     "data": {
      "text/latex": [
       "$\\displaystyle 2 x$"
      ],
      "text/plain": [
       "2*x"
      ]
     },
     "execution_count": 57,
     "metadata": {},
     "output_type": "execute_result"
    }
   ],
   "source": [
    "diff(z, y, 2)"
   ]
  },
  {
   "cell_type": "markdown",
   "id": "605f2dc6",
   "metadata": {},
   "source": [
    "## Пример 21\n",
    "Вычислить частную производную $\\frac{\\partial^{3} z}{\\partial x^{2} \\partial y}$ функции $z=\\sin x \\cdot \\cos y$"
   ]
  },
  {
   "cell_type": "code",
   "execution_count": 58,
   "id": "9ed3a345",
   "metadata": {},
   "outputs": [
    {
     "data": {
      "text/latex": [
       "$\\displaystyle \\sin{\\left(у \\right)} \\sin{\\left(х \\right)}$"
      ],
      "text/plain": [
       "sin(у)*sin(х)"
      ]
     },
     "execution_count": 58,
     "metadata": {},
     "output_type": "execute_result"
    }
   ],
   "source": [
    "x, y = symbols('х у')\n",
    "z = sin(x)*cos(y)\n",
    "diff(z, x, 2, y)"
   ]
  },
  {
   "cell_type": "markdown",
   "id": "673b0a99",
   "metadata": {},
   "source": [
    "## Пример 22\n",
    "Вычислить градиент функции $z=5 \\ln \\left(x^{2}+y^{2}\\right)$"
   ]
  },
  {
   "cell_type": "code",
   "execution_count": 59,
   "id": "6ab8fd6f",
   "metadata": {},
   "outputs": [
    {
     "data": {
      "text/plain": [
       "(2, 4)"
      ]
     },
     "execution_count": 59,
     "metadata": {},
     "output_type": "execute_result"
    }
   ],
   "source": [
    "x,y = symbols('x y')\n",
    "z = 5*log(x**2 + y**2)\n",
    "z_x = diff(z,x).subs({x:1, y:2})\n",
    "z_y = diff(z,y).subs({x:1, y:2})\n",
    "grad_f = (z_x, z_y)\n",
    "grad_f"
   ]
  },
  {
   "cell_type": "markdown",
   "id": "6edb7db4",
   "metadata": {},
   "source": [
    "## Пример 23\n",
    "Определить направление $l$ быстрейшего возрастания функции $z=x^{2}+x y+7$ в точке $M(1 ;-1)$."
   ]
  },
  {
   "cell_type": "code",
   "execution_count": 60,
   "id": "79c400ed",
   "metadata": {},
   "outputs": [
    {
     "data": {
      "text/plain": [
       "(1, 1)"
      ]
     },
     "execution_count": 60,
     "metadata": {},
     "output_type": "execute_result"
    }
   ],
   "source": [
    "x,x = symbols('х у')\n",
    "z = x**2 + x*y +7\n",
    "z_x = diff(z,x).subs({x:1, y:-1})\n",
    "z_y = diff(z,y).subs({x:1, y:-1})\n",
    "grad_f = (z_x, z_y)\n",
    "grad_f"
   ]
  },
  {
   "cell_type": "markdown",
   "id": "77464064",
   "metadata": {},
   "source": [
    "## Пример 24\n",
    "Найти производную функции $z=x^{2}+y^{2}$ в точке $M(1 ; 1)$ по направлению вектора $\\boldsymbol{l}=3 \\boldsymbol{i}+4 \\boldsymbol{j}$."
   ]
  },
  {
   "cell_type": "code",
   "execution_count": 61,
   "id": "6cf35cfd",
   "metadata": {},
   "outputs": [
    {
     "data": {
      "text/latex": [
       "$\\displaystyle \\frac{14}{5}$"
      ],
      "text/plain": [
       "14/5"
      ]
     },
     "execution_count": 61,
     "metadata": {},
     "output_type": "execute_result"
    }
   ],
   "source": [
    "l = Point(3,4)\n",
    "l_n = l.distance(Point(0,0))\n",
    "cos_a = l.x/l_n\n",
    "cos_b = l.y/l_n\n",
    "x,y = symbols('х у')\n",
    "z = x**2 + y**2\n",
    "z_x = diff(z,x).subs({x:1, y:1})\n",
    "z_y = diff(z,y).subs({x:1, y:1})\n",
    "z_l = z_x*cos_a + z_y*cos_b\n",
    "z_l"
   ]
  },
  {
   "cell_type": "markdown",
   "id": "67aa1a9f",
   "metadata": {},
   "source": [
    "## Пример 25\n",
    "Провести касательную плоскость и нормаль к сфере $x^2 + y^2 + z^2 = 3$ в точке $M(1;1;1)$."
   ]
  },
  {
   "cell_type": "code",
   "execution_count": 62,
   "id": "67001ef9",
   "metadata": {},
   "outputs": [],
   "source": [
    "def tangent_plane(F,M):\n",
    "    F_diff_x = diff(F,x).subs({x:M.x,y:M.y,z:M.z})\n",
    "    F_diff_y = diff(F,y).subs({x:M.x,y:M.y,z:M.z})\n",
    "    F_diff_z = diff(F,z).subs({x:M.x,y:M.y,z:M.z})\n",
    "\n",
    "    n = Point(F_diff_x, F_diff_y, F_diff_z)\n",
    "\n",
    "    р = Plane(M, normal_vector=n).equation()\n",
    "\n",
    "    К = Point(M.x+n.x, M.y+n.y, M.z+n.z)\n",
    "    l_n = Line(M, К).arbitrary_point()\n",
    "    return р, In"
   ]
  },
  {
   "cell_type": "code",
   "execution_count": 63,
   "id": "2b862296",
   "metadata": {},
   "outputs": [],
   "source": [
    "x, y, z = symbols('x у z')\n",
    "F = x**2 + y**2 + z**2 - 9\n",
    "M = Point(1,1,1)\n",
    "p, l_n = tangent_plane(F,M)"
   ]
  },
  {
   "cell_type": "code",
   "execution_count": 64,
   "id": "e6c5c286",
   "metadata": {},
   "outputs": [
    {
     "data": {
      "text/latex": [
       "$\\displaystyle 2 x + 2 y + 2 z - 6$"
      ],
      "text/plain": [
       "2*x + 2*y + 2*z - 6"
      ]
     },
     "execution_count": 64,
     "metadata": {},
     "output_type": "execute_result"
    }
   ],
   "source": [
    "p"
   ]
  },
  {
   "cell_type": "markdown",
   "id": "ba9468e7",
   "metadata": {},
   "source": [
    "## Пример 26\n",
    "Найти минимум функции двух переменных $z = (x - 1)^2 + (y - 3)^4$."
   ]
  },
  {
   "cell_type": "code",
   "execution_count": 65,
   "id": "dc8dce5f",
   "metadata": {},
   "outputs": [
    {
     "data": {
      "text/plain": [
       "array([0.99999999, 2.98725136])"
      ]
     },
     "execution_count": 65,
     "metadata": {},
     "output_type": "execute_result"
    }
   ],
   "source": [
    "z = lambda w: (w[0]-1)**2 + (w[1]-3)**4\n",
    "res = minimize(z, (0, 0))\n",
    "res.x"
   ]
  },
  {
   "cell_type": "code",
   "execution_count": 66,
   "id": "dccbcc53",
   "metadata": {},
   "outputs": [
    {
     "data": {
      "text/plain": [
       "True"
      ]
     },
     "execution_count": 66,
     "metadata": {},
     "output_type": "execute_result"
    }
   ],
   "source": [
    "z((1,3)) < z((0.999,3.001))"
   ]
  },
  {
   "cell_type": "code",
   "execution_count": 67,
   "id": "4b18813c",
   "metadata": {},
   "outputs": [
    {
     "data": {
      "text/plain": [
       "0"
      ]
     },
     "execution_count": 67,
     "metadata": {},
     "output_type": "execute_result"
    }
   ],
   "source": [
    "z((1,3))"
   ]
  },
  {
   "cell_type": "markdown",
   "id": "f773278b",
   "metadata": {},
   "source": [
    "## Пример 27\n",
    "Исследовать функцию на экстремум: $z=x^{4}+y^{4}-2 x^{2}+4 x y-2 y^{2}$"
   ]
  },
  {
   "cell_type": "code",
   "execution_count": 68,
   "id": "8c6f4df3",
   "metadata": {},
   "outputs": [
    {
     "data": {
      "image/png": "[encoded data removed]",
      "text/plain": [
       "<Figure size 504x504 with 1 Axes>"
      ]
     },
     "metadata": {
      "needs_background": "light"
     },
     "output_type": "display_data"
    }
   ],
   "source": [
    "z = lambda w: w[0]**4 + w[1]**4 - 2*w[0]**2 +4*w[0]*w[1] - 2*w[1]**2\n",
    "\n",
    "fig = plt.figure(figsize=(7,7))\n",
    "axes = fig.gca(projection='3d')\n",
    "y = x = np.linspace(-2, 2, 50)\n",
    "x, y = np.meshgrid(x, y)\n",
    "Z = z((x,y))\n",
    "surf = axes.plot_surface(x, y, Z, cmap='coolwarm',linewidth=0, antialiased=False)\n",
    "\n",
    "axes.set_xlabel('Ось $X$')\n",
    "axes.set_ylabel('Ось $Y$')\n",
    "axes.set_zlabel('Ось $Z$')\n",
    "plt.show()"
   ]
  },
  {
   "cell_type": "code",
   "execution_count": 69,
   "id": "81d52677",
   "metadata": {},
   "outputs": [
    {
     "data": {
      "text/plain": [
       "array([ 1.41421356, -1.41421356])"
      ]
     },
     "execution_count": 69,
     "metadata": {},
     "output_type": "execute_result"
    }
   ],
   "source": [
    "res = minimize(z, (1, -1))\n",
    "res.x"
   ]
  },
  {
   "cell_type": "code",
   "execution_count": 70,
   "id": "7c5c14be",
   "metadata": {},
   "outputs": [
    {
     "data": {
      "text/plain": [
       "-8.0"
      ]
     },
     "execution_count": 70,
     "metadata": {},
     "output_type": "execute_result"
    }
   ],
   "source": [
    "z(res.x)"
   ]
  },
  {
   "cell_type": "code",
   "execution_count": 71,
   "id": "ee1702e1",
   "metadata": {},
   "outputs": [
    {
     "data": {
      "text/plain": [
       "array([-1.41421356,  1.41421356])"
      ]
     },
     "execution_count": 71,
     "metadata": {},
     "output_type": "execute_result"
    }
   ],
   "source": [
    "res = minimize(z, (-1, 1))\n",
    "res.x"
   ]
  },
  {
   "cell_type": "code",
   "execution_count": 72,
   "id": "d99da5d1",
   "metadata": {},
   "outputs": [
    {
     "data": {
      "text/plain": [
       "-8.0"
      ]
     },
     "execution_count": 72,
     "metadata": {},
     "output_type": "execute_result"
    }
   ],
   "source": [
    "z(res.x)"
   ]
  },
  {
   "cell_type": "markdown",
   "id": "50d061d0",
   "metadata": {},
   "source": [
    "## Пример 28\n",
    "Найти экстремумы функции $z=x-y+2$ при ограничении: $x^{2}+y^{2}=1$."
   ]
  },
  {
   "cell_type": "code",
   "execution_count": 73,
   "id": "2d05f1b4",
   "metadata": {},
   "outputs": [
    {
     "data": {
      "image/png": "[encoded data removed]",
      "text/plain": [
       "<Figure size 432x288 with 1 Axes>"
      ]
     },
     "metadata": {
      "needs_background": "light"
     },
     "output_type": "display_data"
    }
   ],
   "source": [
    "f = lambda w: w[0] - w[1] + 2\n",
    "fig = plt.figure()\n",
    "ax = fig.add_subplot(111, projection='3d')\n",
    "                     \n",
    "x = np.linspace(-1, 1, 50)\n",
    "y = np.linspace(-1, 1, 50)\n",
    "\n",
    "x, y = np.meshgrid(x, y)\n",
    "z1 = f((x,y))\n",
    "ax.plot_surface(x, y, z1, alpha=0.4)\n",
    "\n",
    "x = np.linspace(-1, 1, 100)\n",
    "z = np.linspace(0, 3, 100)\n",
    "xc, zc = np.meshgrid(x, z)\n",
    "yc = np.sqrt(1-xc**2)\n",
    "ax.plot_surface(xc, yc, zc, alpha=0.3)\n",
    "ax.plot_surface(xc, -yc, zc, alpha=0.3)\n",
    "ax.set_xlabel(\"X\")\n",
    "ax.set_ylabel(\"Y\")\n",
    "ax.set_zlabel(\"Z\")\n",
    "plt.show()"
   ]
  },
  {
   "cell_type": "code",
   "execution_count": 74,
   "id": "c22e93ad",
   "metadata": {},
   "outputs": [
    {
     "data": {
      "text/plain": [
       "array([-0.70710679,  0.70710677])"
      ]
     },
     "execution_count": 74,
     "metadata": {},
     "output_type": "execute_result"
    }
   ],
   "source": [
    "cons = ({'type': 'eq', 'fun': lambda w: w[0]**2 + w[1]**2 - 1})\n",
    "\n",
    "bnds = ((None, None), (None, None))\n",
    "\n",
    "res = minimize(f, (-0.5, 0.5), bounds=bnds, constraints=cons)\n",
    "\n",
    "res.x"
   ]
  },
  {
   "cell_type": "code",
   "execution_count": 75,
   "id": "ec137281",
   "metadata": {},
   "outputs": [
    {
     "data": {
      "text/plain": [
       "array([ 0.83205051, -0.55469991])"
      ]
     },
     "execution_count": 75,
     "metadata": {},
     "output_type": "execute_result"
    }
   ],
   "source": [
    "f_max = lambda w: -(1.5*w[0] - w[1] + 1)\n",
    "cons = ({'type': 'eq', 'fun': lambda w: w[0]**2 + w[1]**2 - 1})\n",
    "bnds = ((None, None), (None, None))\n",
    "res = minimize(f_max, (0.5, -0.5), bounds=bnds,constraints=cons)\n",
    "\n",
    "res.x"
   ]
  },
  {
   "cell_type": "markdown",
   "id": "bad79a1f",
   "metadata": {},
   "source": [
    "## Пример 29\n",
    "Определить коэффициенты эластичности производственной функции Кобба-Дугласа $z=4,5 x^{0,33} y^{0,66}$."
   ]
  },
  {
   "cell_type": "code",
   "execution_count": 76,
   "id": "b2db541a",
   "metadata": {},
   "outputs": [
    {
     "name": "stdout",
     "output_type": "stream",
     "text": [
      "E_x: 0.330 E_y: 0.660\n"
     ]
    }
   ],
   "source": [
    "x,y = symbols('x y')\n",
    "z = 4.5*x**(0.33) * y**(0.66)\n",
    "z_x = diff(z, x)\n",
    "z_y = diff(z, y)\n",
    "\n",
    "E_x = (x/z)*z_x\n",
    "E_y = (y/z)*z_y\n",
    "print(f'E_x: {E_x:.3f} E_y: {E_y:.3f}')"
   ]
  },
  {
   "cell_type": "markdown",
   "id": "6bd2e194",
   "metadata": {},
   "source": [
    "## Пример 30\n",
    "Зависимость объема выпуска продукции $V$ от капитальных затрат $K$ определяется функцией $V=V_{0} \\ln \\left(5+K^{2}\\right)$. Найти интервал изменения $K$, на котором увеличение капитальных затрат неэффективно."
   ]
  },
  {
   "cell_type": "code",
   "execution_count": 77,
   "id": "ab0fe603",
   "metadata": {},
   "outputs": [
    {
     "data": {
      "text/plain": [
       "[-sqrt(5), sqrt(5)]"
      ]
     },
     "execution_count": 77,
     "metadata": {},
     "output_type": "execute_result"
    }
   ],
   "source": [
    "K,V0 = symbols('K V0')\n",
    "V = V0*log(5+K**2)\n",
    "\n",
    "Vprim2 = diff(V,K,2)\n",
    "\n",
    "Vprim3 = diff(V,K,3)\n",
    "\n",
    "s = solve(Vprim2,K)\n",
    "s"
   ]
  },
  {
   "cell_type": "code",
   "execution_count": 78,
   "id": "09dfd2d6",
   "metadata": {},
   "outputs": [
    {
     "data": {
      "text/latex": [
       "$\\displaystyle - \\frac{\\sqrt{5} V_{0}}{25}$"
      ],
      "text/plain": [
       "-sqrt(5)*V0/25"
      ]
     },
     "execution_count": 78,
     "metadata": {},
     "output_type": "execute_result"
    }
   ],
   "source": [
    "Vprim3.subs(K,s[1])"
   ]
  },
  {
   "cell_type": "markdown",
   "id": "2cbc103e",
   "metadata": {},
   "source": [
    "## Примеры решения задач"
   ]
  },
  {
   "cell_type": "markdown",
   "id": "f0345f0c",
   "metadata": {},
   "source": [
    "Вычислить $y'$ для функции $x\\cos\\ (\\log(x))+\\sin\\ (\\log(x))$"
   ]
  },
  {
   "cell_type": "code",
   "execution_count": 79,
   "id": "b3baf42d",
   "metadata": {},
   "outputs": [
    {
     "data": {
      "text/latex": [
       "$\\displaystyle х \\left(- \\frac{\\sin{\\left(\\log{\\left(х \\right)} \\right)}}{х} + \\frac{\\cos{\\left(\\log{\\left(х \\right)} \\right)}}{х}\\right) + \\sin{\\left(\\log{\\left(х \\right)} \\right)} + \\cos{\\left(\\log{\\left(х \\right)} \\right)}$"
      ],
      "text/plain": [
       "х*(-sin(log(х))/х + cos(log(х))/х) + sin(log(х)) + cos(log(х))"
      ]
     },
     "execution_count": 79,
     "metadata": {},
     "output_type": "execute_result"
    }
   ],
   "source": [
    "x = symbols('х')\n",
    "y = x*(cos(log(x))+sin(log(x)))\n",
    "diff(y,x)"
   ]
  },
  {
   "cell_type": "code",
   "execution_count": 80,
   "id": "aacde281",
   "metadata": {},
   "outputs": [
    {
     "data": {
      "text/latex": [
       "$\\displaystyle 2 \\cos{\\left(\\log{\\left(х \\right)} \\right)}$"
      ],
      "text/plain": [
       "2*cos(log(х))"
      ]
     },
     "execution_count": 80,
     "metadata": {},
     "output_type": "execute_result"
    }
   ],
   "source": [
    "diff(y,x).simplify()"
   ]
  },
  {
   "cell_type": "markdown",
   "id": "138b936a",
   "metadata": {},
   "source": [
    "Решить уравнение $y'(x) = 0$, где $y(x) = max\\{x^2-2x+3; 2x^2-5x-1\\}$"
   ]
  },
  {
   "cell_type": "code",
   "execution_count": 81,
   "id": "06d076b1",
   "metadata": {},
   "outputs": [
    {
     "data": {
      "image/png": "[encoded data removed]",
      "text/plain": [
       "<Figure size 432x288 with 1 Axes>"
      ]
     },
     "metadata": {
      "needs_background": "light"
     },
     "output_type": "display_data"
    }
   ],
   "source": [
    "f1 = lambda х: х**2-2*х+3\n",
    "f2 = lambda х: 2*х**2-5*х-1\n",
    "x = np.linspace(-3, 5.5, 50)\n",
    "y1 = f1(x)\n",
    "plt.plot(x,y1, label = \"f1\")\n",
    "y2 = f2(x)\n",
    "plt.plot(x,y2, label = \"f2\")\n",
    "plt.xlabel('$X$')\n",
    "plt.ylabel('$Y$')\n",
    "plt.legend()\n",
    "plt.show()"
   ]
  },
  {
   "cell_type": "code",
   "execution_count": 82,
   "id": "f336a821",
   "metadata": {},
   "outputs": [
    {
     "data": {
      "text/plain": [
       "True"
      ]
     },
     "execution_count": 82,
     "metadata": {},
     "output_type": "execute_result"
    }
   ],
   "source": [
    "f1(-1) == f2(-1)"
   ]
  },
  {
   "cell_type": "code",
   "execution_count": 83,
   "id": "b2b88140",
   "metadata": {},
   "outputs": [
    {
     "data": {
      "text/plain": [
       "True"
      ]
     },
     "execution_count": 83,
     "metadata": {},
     "output_type": "execute_result"
    }
   ],
   "source": [
    "f1(4) == f2(4)"
   ]
  },
  {
   "cell_type": "code",
   "execution_count": 84,
   "id": "d97b4b98",
   "metadata": {},
   "outputs": [
    {
     "data": {
      "text/latex": [
       "$\\displaystyle 4 x - 5$"
      ],
      "text/plain": [
       "4*x - 5"
      ]
     },
     "execution_count": 84,
     "metadata": {},
     "output_type": "execute_result"
    }
   ],
   "source": [
    "x = symbols('x')\n",
    "f1 = x**2-2*x+3\n",
    "f2 = 2*x**2-5*x-1\n",
    "\n",
    "y_diff1 = diff(f2,x)\n",
    "y_diff1"
   ]
  },
  {
   "cell_type": "code",
   "execution_count": 85,
   "id": "4b468430",
   "metadata": {},
   "outputs": [
    {
     "data": {
      "text/latex": [
       "$\\displaystyle 2 x - 2$"
      ],
      "text/plain": [
       "2*x - 2"
      ]
     },
     "execution_count": 85,
     "metadata": {},
     "output_type": "execute_result"
    }
   ],
   "source": [
    "y_diff2 = diff(f1,x)\n",
    "y_diff2"
   ]
  },
  {
   "cell_type": "markdown",
   "id": "08b3d95a",
   "metadata": {},
   "source": [
    "Показать, что функция $y = x\\sin\\ x$ удовлетворяет уравнению $\\frac{y'}{\\cos\\ x} - x = \\tan x$"
   ]
  },
  {
   "cell_type": "code",
   "execution_count": 86,
   "id": "aeabecd9",
   "metadata": {},
   "outputs": [
    {
     "data": {
      "text/latex": [
       "$\\displaystyle \\tan{\\left(х \\right)}$"
      ],
      "text/plain": [
       "tan(х)"
      ]
     },
     "execution_count": 86,
     "metadata": {},
     "output_type": "execute_result"
    }
   ],
   "source": [
    "x, y = symbols('х у')\n",
    "y = x*sin(x)\n",
    "yprim = diff(y, x)\n",
    "f = yprim/cos(x) - x\n",
    "f.simplify()"
   ]
  },
  {
   "cell_type": "markdown",
   "id": "053688c6",
   "metadata": {},
   "source": [
    "Написать уравнения касательных к графику функции $y=(x^2+1)(x-2)$ в точках её пересечения с осями координат."
   ]
  },
  {
   "cell_type": "code",
   "execution_count": 87,
   "id": "8c844e67",
   "metadata": {},
   "outputs": [],
   "source": [
    "x = symbols('x', real=True)\n",
    "y = (x**2 + 1)*(x - 2)"
   ]
  },
  {
   "cell_type": "code",
   "execution_count": 88,
   "id": "9cfd371a",
   "metadata": {},
   "outputs": [
    {
     "data": {
      "text/latex": [
       "$\\displaystyle - x + y + 2$"
      ],
      "text/plain": [
       "-x + y + 2"
      ]
     },
     "execution_count": 88,
     "metadata": {},
     "output_type": "execute_result"
    }
   ],
   "source": [
    "tangent(y, 0).equation()"
   ]
  },
  {
   "cell_type": "code",
   "execution_count": 89,
   "id": "f517c238",
   "metadata": {},
   "outputs": [
    {
     "data": {
      "text/latex": [
       "$\\displaystyle - 5 x + y + 10$"
      ],
      "text/plain": [
       "-5*x + y + 10"
      ]
     },
     "execution_count": 89,
     "metadata": {},
     "output_type": "execute_result"
    }
   ],
   "source": [
    "xp = solve(y, x)\n",
    "tangent(y, xp[0]).equation()"
   ]
  },
  {
   "cell_type": "code",
   "execution_count": 90,
   "id": "2fa21f15",
   "metadata": {},
   "outputs": [
    {
     "data": {
      "image/png": "[encoded data removed]",
      "text/plain": [
       "<Figure size 432x288 with 1 Axes>"
      ]
     },
     "metadata": {
      "needs_background": "light"
     },
     "output_type": "display_data"
    }
   ],
   "source": [
    "x = np.linspace(-1.5,3.5,100)\n",
    "y = (x**2 + 1)*(x - 2)\n",
    "plt.plot(x, y, lw=2, color='red')\n",
    "x = np.linspace(-1.5,3.3,100)\n",
    "y1 = x - 2\n",
    "plt.plot(x, y1, lw=2, color='green')\n",
    "\n",
    "x = np.linspace(-0.3,3.5,100)\n",
    "y2 = 5*x - 10\n",
    "plt.plot(x, y2, lw=2, color='blue')\n",
    "plt.plot([0], [-2], 'o', color='0.4')\n",
    "plt.plot([2], [0], 'o', color='y')\n",
    "plt.xlabel('$X$')\n",
    "plt.ylabel('$Y$')\n",
    "plt.grid(True)\n",
    "plt.show()"
   ]
  },
  {
   "cell_type": "markdown",
   "id": "bce7ef03",
   "metadata": {},
   "source": [
    "При каком значении параметра $a$ парабола $y = ax^2$ касается кривой $y = lnx$?"
   ]
  },
  {
   "cell_type": "code",
   "execution_count": 91,
   "id": "66306ebe",
   "metadata": {},
   "outputs": [
    {
     "data": {
      "text/plain": [
       "[(exp(1/2), exp(-1)/2)]"
      ]
     },
     "execution_count": 91,
     "metadata": {},
     "output_type": "execute_result"
    }
   ],
   "source": [
    "x, a, x0 = symbols('x а х0')\n",
    "\n",
    "y1 = a*x**2\n",
    "y2 = log(x)\n",
    "\n",
    "y1_diff = diff(y1,x).subs(x,x0)\n",
    "y2_diff = diff(y2,x).subs(x,x0)\n",
    "\n",
    "y1_0 = y1.subs(x,x0)\n",
    "y2_0 = y2.subs(x,x0)\n",
    "\n",
    "solve([y1_0-y2_0, y1_diff-y2_diff], [x0, a])"
   ]
  },
  {
   "cell_type": "code",
   "execution_count": 92,
   "id": "97ac87ba",
   "metadata": {},
   "outputs": [
    {
     "data": {
      "image/png": "[encoded data removed]",
      "text/plain": [
       "<Figure size 432x288 with 1 Axes>"
      ]
     },
     "metadata": {
      "needs_background": "light"
     },
     "output_type": "display_data"
    }
   ],
   "source": [
    "x = np.linspace(-4, 6, 500)\n",
    "y = x**2/(2*np.exp(1))\n",
    "plt.plot(x, y, lw=2, c='r')\n",
    "x = np.linspace(0.03, 6, 100)\n",
    "y = np.log(x)\n",
    "plt.plot(x, y, lw=2, c='b')\n",
    "plt.xlabel('$X$')\n",
    "plt.ylabel('$Y$')\n",
    "plt.grid(True, linestyle='-', color='0.4')\n",
    "plt.show()"
   ]
  },
  {
   "cell_type": "markdown",
   "id": "1e0901e0",
   "metadata": {},
   "source": [
    "Исследовать на экстремум функцию $y = \\sqrt[3]{x} \\times lnx$."
   ]
  },
  {
   "cell_type": "code",
   "execution_count": 93,
   "id": "81c235ea",
   "metadata": {
    "scrolled": true
   },
   "outputs": [
    {
     "data": {
      "image/png": "[encoded data removed]",
      "text/plain": [
       "<Figure size 432x288 with 1 Axes>"
      ]
     },
     "metadata": {
      "needs_background": "light"
     },
     "output_type": "display_data"
    }
   ],
   "source": [
    "f = lambda x: (x**(1/3))*np.log(x)\n",
    "\n",
    "x = np.linspace(0.0001,1,100)\n",
    "y = f(x)\n",
    "plt.plot(x, y)\n",
    "plt.xlabel('$X$')\n",
    "plt.ylabel('$Y$')\n",
    "plt.show()"
   ]
  },
  {
   "cell_type": "code",
   "execution_count": 94,
   "id": "368c72c1",
   "metadata": {},
   "outputs": [
    {
     "name": "stdout",
     "output_type": "stream",
     "text": [
      "xmin: 0.0498 y(x_min): -1.1036\n"
     ]
    }
   ],
   "source": [
    "res = minimize(f, 0.01)\n",
    "print(f'xmin: {res.x[0]:.4f} y(x_min): {f(res.x)[0]:.4f}')"
   ]
  },
  {
   "cell_type": "code",
   "execution_count": 95,
   "id": "6af095ad",
   "metadata": {},
   "outputs": [
    {
     "name": "stdout",
     "output_type": "stream",
     "text": [
      "x_min: 0.0498 y(x_min): -1.104\n"
     ]
    }
   ],
   "source": [
    "x = symbols('x')\n",
    "y = x**(1/3) * log(x)\n",
    "x_min = solve(diff(y,x))[0]\n",
    "print(f'x_min: {x_min:.4f} y(x_min): {y.subs(x, x_min):.3f}')"
   ]
  },
  {
   "cell_type": "markdown",
   "id": "beffadf7",
   "metadata": {},
   "source": [
    "Найти производную функции $w = \\frac{x^2}{2} + \\frac{y^2}{9} - z^2$ в точке $A(1;2)$ по направлению радиус-вектора этой точки."
   ]
  },
  {
   "cell_type": "code",
   "execution_count": 96,
   "id": "c5b8ad53",
   "metadata": {},
   "outputs": [],
   "source": [
    "l = Point(2,3,1)\n",
    "\n",
    "l_n = l.distance(Point(0,0,0))\n",
    "\n",
    "cos_a = l.x/l_n\n",
    "cos_b = l.y/l_n\n",
    "cos_c = l.z/l_n"
   ]
  },
  {
   "cell_type": "code",
   "execution_count": 97,
   "id": "a6c95258",
   "metadata": {},
   "outputs": [],
   "source": [
    "x,y,z = symbols('x у z')\n",
    "w = x**2/2 + y**2/9 - z**2\n",
    "\n",
    "w_x = diff(w,x).subs({x:2, y:3, z:1})\n",
    "w_y = diff(w,y).subs({x:2, y:3, z:1})\n",
    "w_z = diff(w,z).subs({x:2, y:3, z:1})"
   ]
  },
  {
   "cell_type": "code",
   "execution_count": 98,
   "id": "61bd921d",
   "metadata": {},
   "outputs": [
    {
     "data": {
      "text/latex": [
       "$\\displaystyle \\frac{2 \\sqrt{14}}{7}$"
      ],
      "text/plain": [
       "2*sqrt(14)/7"
      ]
     },
     "execution_count": 98,
     "metadata": {},
     "output_type": "execute_result"
    }
   ],
   "source": [
    "w_x = diff(w,x).subs([(x,2),(y,3),(z,1)])\n",
    "w_y = diff(w,y).subs([(x,2),(y,3),(z,1)])\n",
    "w_z = diff(w,z).subs([(x,2),(y,3),(z,1)])\n",
    "\n",
    "w_l = w_x*cos_a + w_y*cos_b + w_z*cos_c\n",
    "w_l"
   ]
  },
  {
   "cell_type": "markdown",
   "id": "ff4630bf",
   "metadata": {},
   "source": [
    "Найти экстремумы функции $z = x^2 -4xy - 2y^2 + 8x$"
   ]
  },
  {
   "cell_type": "code",
   "execution_count": 99,
   "id": "42b74958",
   "metadata": {},
   "outputs": [],
   "source": [
    "def critical_points(z):\n",
    "\n",
    "    z_x = diff(z,x)\n",
    "    z_y = diff(z,y)\n",
    "\n",
    "    cr_point = solve([z_x, z_y], [x, y], dict=True)\n",
    "\n",
    "    A = diff(z,x,2)\n",
    "    B = diff(z,x,y)\n",
    "    C = diff(z,y,2)\n",
    "\n",
    "    D = A*C - B**2\n",
    "    return cr_point, A, D"
   ]
  },
  {
   "cell_type": "code",
   "execution_count": 100,
   "id": "4ffc0181",
   "metadata": {},
   "outputs": [],
   "source": [
    "def suff_indic(A, D, cr_point):\n",
    "    A0 = A.subs(cr_point)\n",
    "    D0 = D.subs(cr_point)\n",
    "    return D0, A0"
   ]
  },
  {
   "cell_type": "code",
   "execution_count": 101,
   "id": "00759473",
   "metadata": {},
   "outputs": [
    {
     "data": {
      "text/plain": [
       "[{х: -4/3, у: 4/3}]"
      ]
     },
     "execution_count": 101,
     "metadata": {},
     "output_type": "execute_result"
    }
   ],
   "source": [
    "x, y = symbols('х у')\n",
    "z = x**2 - 4*x*y - 2*y**2 + 8*x\n",
    "cr_point, A, D = critical_points(z)\n",
    "cr_point"
   ]
  },
  {
   "cell_type": "code",
   "execution_count": 102,
   "id": "0c4d4626",
   "metadata": {},
   "outputs": [
    {
     "data": {
      "text/plain": [
       "(-24, 2)"
      ]
     },
     "execution_count": 102,
     "metadata": {},
     "output_type": "execute_result"
    }
   ],
   "source": [
    "D0, A0 = suff_indic(A, D, cr_point[0])\n",
    "D0, A0"
   ]
  },
  {
   "cell_type": "markdown",
   "id": "ffa94ab8",
   "metadata": {},
   "source": [
    "Зависимость между себестоимостью продукции $C$ и объёмом её производства $Q$ выражается формулой $C(Q) = 80 - 0,38Q$. Определить эластичность себестоимости при выпуске продукции $Q = 20$ ден. ед."
   ]
  },
  {
   "cell_type": "code",
   "execution_count": 103,
   "id": "c182537a",
   "metadata": {},
   "outputs": [
    {
     "data": {
      "text/latex": [
       "$\\displaystyle -0.105$"
      ],
      "text/plain": [
       "-0.105"
      ]
     },
     "execution_count": 103,
     "metadata": {},
     "output_type": "execute_result"
    }
   ],
   "source": [
    "Q = symbols('Q')\n",
    "c = 80 - 0.38*Q\n",
    "Dprim = diff(c,Q)\n",
    "E = (Q*Dprim/c).subs(Q,20)\n",
    "S(E).n(3)"
   ]
  },
  {
   "cell_type": "markdown",
   "id": "d0abf629",
   "metadata": {},
   "source": [
    "Функция спроса $D$ и предложения $S$ от цены $p$ имеют вид: $D(p) = 40 - 1,3p$, $S(p) = 20 + 1,2p$. Найти эластичность спроса в точке равновенсой цены."
   ]
  },
  {
   "cell_type": "code",
   "execution_count": 104,
   "id": "9abcc922",
   "metadata": {},
   "outputs": [
    {
     "data": {
      "text/latex": [
       "$\\displaystyle 8.0$"
      ],
      "text/plain": [
       "8.0"
      ]
     },
     "execution_count": 104,
     "metadata": {},
     "output_type": "execute_result"
    }
   ],
   "source": [
    "p = symbols('р')\n",
    "D = 40 - 1.3*p\n",
    "S = 20 + 1.2*p\n",
    "p0 = solve(D-S,p)\n",
    "p0[0].n(2)"
   ]
  },
  {
   "cell_type": "code",
   "execution_count": 105,
   "id": "11d9800a",
   "metadata": {},
   "outputs": [
    {
     "data": {
      "text/latex": [
       "$\\displaystyle -0.351$"
      ],
      "text/plain": [
       "-0.351"
      ]
     },
     "execution_count": 105,
     "metadata": {},
     "output_type": "execute_result"
    }
   ],
   "source": [
    "Dprim = diff(D,p)\n",
    "E = (p*Dprim/D).subs(p,p0[0])\n",
    "E.n(3)"
   ]
  },
  {
   "cell_type": "markdown",
   "id": "a70efeba",
   "metadata": {},
   "source": [
    "## Решение собственной задачи с использованием производных"
   ]
  },
  {
   "cell_type": "markdown",
   "id": "2eb6ed1f",
   "metadata": {},
   "source": [
    "Модель Блэка-Шоулза. Уравнения Блэка-Шоулза произвели революцию в ценообразовании опционов, когда в 1973 году Мрайон Шоулз и Фишер Блэк опубликовали свою работу."
   ]
  },
  {
   "cell_type": "markdown",
   "id": "700f6372",
   "metadata": {},
   "source": [
    "При рассмотрении приведенных ниже формул необходимо учитывать ряд важных допущений:\n",
    "\n",
    "1. Процентная ставка известна и постоянна во времени. \n",
    "2. Акции следуют случайному блужданию в непрерывном времени, дисперсия путей цены акции следует логнормальному распределению. \n",
    "3. Волатильность постоянна \n",
    "4. Акции не выплачивают дивиденды (однако их можно модифицировать для включения дивидендов).\n",
    "5. Опцион может быть исполнен только по истечении срока действия, т.е. это европейский тип опциона.\n",
    "6. Отсутствие транзакционных издержек, т.е. комиссий за продажу в короткую позицию и т.д. \n",
    "7. Возможна дробная торговля, т.е. мы можем купить/продать 0,x любой акции."
   ]
  },
  {
   "cell_type": "markdown",
   "id": "f01ec6da",
   "metadata": {},
   "source": [
    "Формулы Блэка-Шоулза для акций, не выплачивающих дивиденды"
   ]
  },
  {
   "cell_type": "markdown",
   "id": "50046cd8",
   "metadata": {},
   "source": [
    "$Call = S_{0}N(d_1) - N(d_2)Ke^{-rT}$"
   ]
  },
  {
   "cell_type": "markdown",
   "id": "c71206c7",
   "metadata": {},
   "source": [
    "$Put=N(-d_2)Ke^{-rT} - N(-d_1)S_0$"
   ]
  },
  {
   "cell_type": "markdown",
   "id": "97c6f6c2",
   "metadata": {},
   "source": [
    "$\\\\d_1 = \\frac{ln(\\frac{S}{K}) + (r + \\frac{\\sigma^2}{2})T}{\\sigma\\sqrt{T}} \\\\ \\\\d_2 =d_1 - \\sigma\\sqrt{T}$"
   ]
  },
  {
   "cell_type": "markdown",
   "id": "332387ec",
   "metadata": {},
   "source": [
    "S : текущая цена актива\n",
    "\n",
    "K: цена исполнения опциона\n",
    "\n",
    "r: безрисковая ставка \n",
    "\n",
    "T : время до истечения срока опциона \n",
    "\n",
    "σ: годовая волатильность доходности актива"
   ]
  },
  {
   "cell_type": "markdown",
   "id": "bbf87393",
   "metadata": {},
   "source": [
    "N(x): кумулятивная функция распределения для стандартного нормального распределения, показанного ниже."
   ]
  },
  {
   "cell_type": "markdown",
   "id": "4d22d630",
   "metadata": {},
   "source": [
    "$N(x) =\\displaystyle \\int_{-\\infty}^{x} \\frac{e^{-x^{2}/2}} {\\sqrt{2\\pi}}$"
   ]
  },
  {
   "cell_type": "code",
   "execution_count": 106,
   "id": "85d23251",
   "metadata": {},
   "outputs": [],
   "source": [
    "N = norm.cdf\n",
    "\n",
    "def BS_CALL(S, K, T, r, sigma):\n",
    "    d1 = (np.log(S/K) + (r + sigma**2/2)*T) / (sigma*np.sqrt(T))\n",
    "    d2 = d1 - sigma * np.sqrt(T)\n",
    "    return S * N(d1) - K * np.exp(-r*T)* N(d2)\n",
    "\n",
    "def BS_PUT(S, K, T, r, sigma):\n",
    "    d1 = (np.log(S/K) + (r + sigma**2/2)*T) / (sigma*np.sqrt(T))\n",
    "    d2 = d1 - sigma* np.sqrt(T)\n",
    "    return K*np.exp(-r*T)*N(-d2) - S*N(-d1)"
   ]
  },
  {
   "cell_type": "markdown",
   "id": "746d6e0f",
   "metadata": {},
   "source": [
    "В этом разделе мы рассмотрим влияние изменения входных параметров на стоимость контрактов и опционов."
   ]
  },
  {
   "cell_type": "markdown",
   "id": "4c5af84d",
   "metadata": {},
   "source": [
    "Влияние S на стоимость опциона.\n",
    "Здесь мы будем поддерживать постоянными все переменные, кроме текущей цены акций S, и рассмотрим, как меняется стоимость контрактов и опционов."
   ]
  },
  {
   "cell_type": "code",
   "execution_count": 107,
   "id": "d9353dbc",
   "metadata": {},
   "outputs": [
    {
     "data": {
      "text/plain": [
       "<matplotlib.legend.Legend at 0x1ccc4fc8d00>"
      ]
     },
     "execution_count": 107,
     "metadata": {},
     "output_type": "execute_result"
    },
    {
     "data": {
      "image/png": "[encoded data removed]",
      "text/plain": [
       "<Figure size 432x288 with 1 Axes>"
      ]
     },
     "metadata": {
      "needs_background": "light"
     },
     "output_type": "display_data"
    }
   ],
   "source": [
    "K = 100\n",
    "r = 0.1\n",
    "T = 1\n",
    "sigma = 0.3\n",
    "\n",
    "S = np.arange(60,140,0.1)\n",
    "\n",
    "calls = [BS_CALL(s, K, T, r, sigma) for s in S]\n",
    "puts = [BS_PUT(s, K, T, r, sigma) for s in S]\n",
    "plt.plot(S, calls, label='Call Value')\n",
    "plt.plot(S, puts, label='Put Value')\n",
    "plt.xlabel('$S_0$')\n",
    "plt.ylabel(' Value')\n",
    "plt.legend()"
   ]
  },
  {
   "cell_type": "markdown",
   "id": "16818465",
   "metadata": {},
   "source": [
    " Влияние $σ$ на стоимость по Блэку-Шоулзу\n",
    " \n",
    "Как и следовало ожидать, при постоянстве других переменных и увеличении параметра волатильности стоимость контрактов и опционов увеличивается линейно, как показано ниже.\n",
    "\n",
    "Чтобы понять, почему стоимость контрактов строго больше стоимости опционов в зависимости от волатильности, изменим процентную ставку $r$ до 0 и заметим, что кривые точно совпадают. Вместо того чтобы строить графики влияния на процентные ставки, мы можем сделать вывод, что увеличение процентных ставок увеличивает стоимость контрактов и уменьшает стоимость опционов."
   ]
  },
  {
   "cell_type": "code",
   "execution_count": 108,
   "id": "0c665332",
   "metadata": {},
   "outputs": [
    {
     "data": {
      "text/plain": [
       "<matplotlib.legend.Legend at 0x1ccc501edc0>"
      ]
     },
     "execution_count": 108,
     "metadata": {},
     "output_type": "execute_result"
    },
    {
     "data": {
      "image/png": "[encoded data removed]",
      "text/plain": [
       "<Figure size 432x288 with 1 Axes>"
      ]
     },
     "metadata": {
      "needs_background": "light"
     },
     "output_type": "display_data"
    }
   ],
   "source": [
    "K = 100\n",
    "r = 0.1\n",
    "T = 1\n",
    "Sigmas = np.arange(0.1, 1.5, 0.01)\n",
    "S = 100\n",
    "\n",
    "calls = [BS_CALL(S, K, T, r, sig) for sig in Sigmas]\n",
    "puts = [BS_PUT(S, K, T, r, sig) for sig in Sigmas]\n",
    "plt.plot(Sigmas, calls, label='Call Value')\n",
    "plt.plot(Sigmas, puts, label='Put Value')\n",
    "plt.xlabel('$\\sigma$')\n",
    "plt.ylabel(' Value')\n",
    "plt.legend()"
   ]
  },
  {
   "cell_type": "markdown",
   "id": "a452e458",
   "metadata": {},
   "source": [
    "Влияние времени на цену по Блэку-Шоулзу\n",
    " \n",
    "С увеличением времени увеличивается неопределенность относительно будущей цены. Поскольку неопределенность идет на пользу \n",
    "держателю опциона, цена опциона растет со временем. Снова попробуем установить процентную ставку на ноль, чтобы увидеть, \n",
    "что разница между опционами и контрактами исчезает."
   ]
  },
  {
   "cell_type": "code",
   "execution_count": 109,
   "id": "7d8318e4",
   "metadata": {},
   "outputs": [
    {
     "data": {
      "text/plain": [
       "<matplotlib.legend.Legend at 0x1ccc5082490>"
      ]
     },
     "execution_count": 109,
     "metadata": {},
     "output_type": "execute_result"
    },
    {
     "data": {
      "image/png": "[encoded data removed]",
      "text/plain": [
       "<Figure size 432x288 with 1 Axes>"
      ]
     },
     "metadata": {
      "needs_background": "light"
     },
     "output_type": "display_data"
    }
   ],
   "source": [
    "K = 100\n",
    "r = 0.05\n",
    "T = np.arange(0, 2, 0.01)\n",
    "sigma = 0.3\n",
    "S = 100\n",
    "\n",
    "calls = [BS_CALL(S, K, t, r, sigma) for t in T]\n",
    "puts = [BS_PUT(S, K, t, r, sigma) for t in T]\n",
    "plt.plot(T, calls, label='Call Value')\n",
    "plt.plot(T, puts, label='Put Value')\n",
    "plt.xlabel('$T$ in years')\n",
    "plt.ylabel(' Value')\n",
    "plt.legend()"
   ]
  },
  {
   "cell_type": "markdown",
   "id": "01ae77d8",
   "metadata": {},
   "source": [
    "Основная проблема подхода Блэка Шоулза заключается в том, что она не может адекватно работать при условии изменчивой волатильности."
   ]
  }
 ],
 "metadata": {
  "kernelspec": {
   "display_name": "Python 3 (ipykernel)",
   "language": "python",
   "name": "python3"
  },
  "language_info": {
   "codemirror_mode": {
    "name": "ipython",
    "version": 3
   },
   "file_extension": ".py",
   "mimetype": "text/x-python",
   "name": "python",
   "nbconvert_exporter": "python",
   "pygments_lexer": "ipython3",
   "version": "3.11.3"
  }
 },
 "nbformat": 4,
 "nbformat_minor": 5
}
