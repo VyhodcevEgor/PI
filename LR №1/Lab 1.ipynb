{
 "cells": [
  {
   "cell_type": "code",
   "execution_count": 2,
   "metadata": {},
   "outputs": [],
   "source": [
    "import sympy\n",
    "import math\n",
    "import mpmath\n",
    "import cmath"
   ]
  },
  {
   "cell_type": "markdown",
   "metadata": {},
   "source": [
    "# Действия над комплексными числами. \n",
    "## Пример №1"
   ]
  },
  {
   "cell_type": "code",
   "execution_count": 1,
   "metadata": {},
   "outputs": [
    {
     "name": "stdout",
     "output_type": "stream",
     "text": [
      "(5+5j)\n",
      "(1-2j)\n",
      "(10+0j)\n",
      "(2+4j)\n",
      "2j\n",
      "(7+11j)\n"
     ]
    }
   ],
   "source": [
    "x = complex(1, 3)\n",
    "y = complex(2, -1)\n",
    "z = x * y\n",
    "print(z)\n",
    "g = complex(1, -2)\n",
    "print(g)\n",
    "t = complex(10, 0)\n",
    "print(t)\n",
    "h = t / g\n",
    "print(h)\n",
    "p = complex(-1, -1)\n",
    "n = p * p\n",
    "print(n)\n",
    "C = z + h + n\n",
    "print(C)"
   ]
  },
  {
   "cell_type": "markdown",
   "metadata": {},
   "source": [
    "## Пример №2"
   ]
  },
  {
   "cell_type": "code",
   "execution_count": 4,
   "metadata": {},
   "outputs": [
    {
     "name": "stdout",
     "output_type": "stream",
     "text": [
      "(-1+0j)\n"
     ]
    }
   ],
   "source": [
    "x = complex(0, 1)\n",
    "y = pow(x, 2)\n",
    "print(y)"
   ]
  },
  {
   "cell_type": "markdown",
   "metadata": {},
   "source": [
    "## Пример №3"
   ]
  },
  {
   "cell_type": "code",
   "execution_count": 7,
   "metadata": {},
   "outputs": [
    {
     "name": "stdout",
     "output_type": "stream",
     "text": [
      "(5+5j)\n",
      "(1-2j)\n",
      "(10+0j)\n",
      "(2+4j)\n",
      "2j\n",
      "(7+11j)\n"
     ]
    }
   ],
   "source": [
    "x = complex(1, 3)\n",
    "y = complex(2, -1)\n",
    "z = x * y\n",
    "print(z)\n",
    "g = complex(1, -2)\n",
    "print(g)\n",
    "t = complex(10, 0)\n",
    "print(t)\n",
    "h = t / g\n",
    "print(h)\n",
    "p = complex(-1, -1)\n",
    "n = p * p\n",
    "print(n)\n",
    "C = z + h + n\n",
    "print(C)"
   ]
  },
  {
   "cell_type": "markdown",
   "metadata": {},
   "source": [
    "## Пример №4"
   ]
  },
  {
   "cell_type": "code",
   "execution_count": 9,
   "metadata": {},
   "outputs": [
    {
     "name": "stdout",
     "output_type": "stream",
     "text": [
      "[1 - 2*I, 1 + 2*I]\n"
     ]
    }
   ],
   "source": [
    "x = sympy.Symbol(\"x\")\n",
    "print(sympy.solve(x ** 2 - 2 * x + 5))"
   ]
  },
  {
   "cell_type": "markdown",
   "metadata": {},
   "source": [
    "## Пример №5"
   ]
  },
  {
   "cell_type": "code",
   "execution_count": 10,
   "metadata": {},
   "outputs": [
    {
     "name": "stdout",
     "output_type": "stream",
     "text": [
      "(-4+23j)\n"
     ]
    }
   ],
   "source": [
    "x = complex(1, -2)\n",
    "i = complex(0, 1)\n",
    "f = x ** 4 + (2 + i) / x - (-3 + 2 * i)\n",
    "print(f)"
   ]
  },
  {
   "cell_type": "markdown",
   "metadata": {},
   "source": [
    "## Пример №6"
   ]
  },
  {
   "cell_type": "code",
   "execution_count": 12,
   "metadata": {},
   "outputs": [
    {
     "name": "stdout",
     "output_type": "stream",
     "text": [
      "(-0+2j)\n"
     ]
    }
   ],
   "source": [
    "print((1 + i)**8/(1+i)**6)"
   ]
  },
  {
   "cell_type": "markdown",
   "metadata": {},
   "source": [
    "## Пример №7"
   ]
  },
  {
   "cell_type": "code",
   "execution_count": 13,
   "metadata": {},
   "outputs": [
    {
     "name": "stdout",
     "output_type": "stream",
     "text": [
      "Matrix([[-0.0588 - 0.765*I], [1.82 + 1.71*I]])\n"
     ]
    }
   ],
   "source": [
    "mpmath.mp.dps = 3\n",
    "x = sympy.Symbol('x')\n",
    "y = sympy.Symbol('y')\n",
    "i = complex(0, 1)\n",
    "fl = (2 + i) * x + y * (2 - i) - 6\n",
    "f2 = (2 - i) * x + (3 - 2 * i) * y - 8\n",
    "print(sympy.nsolve((fl, f2), (x, y), (-1, 1)))"
   ]
  },
  {
   "cell_type": "markdown",
   "metadata": {},
   "source": [
    "## Пример №8"
   ]
  },
  {
   "cell_type": "code",
   "execution_count": 14,
   "metadata": {},
   "outputs": [
    {
     "name": "stdout",
     "output_type": "stream",
     "text": [
      "[-2.0 + 1.0*I, 2.0 - 1.0*I]\n"
     ]
    }
   ],
   "source": [
    "print(sympy.solve(x**2 - 3 + 4 * i))"
   ]
  },
  {
   "cell_type": "markdown",
   "metadata": {},
   "source": [
    "## Пример №9"
   ]
  },
  {
   "cell_type": "code",
   "execution_count": 15,
   "metadata": {},
   "outputs": [
    {
     "name": "stdout",
     "output_type": "stream",
     "text": [
      "[0.8 - 0.4*I, 1.0 - 1.0*I]\n"
     ]
    }
   ],
   "source": [
    "x = sympy.Symbol(\"х\")\n",
    "i = complex(0, 1)\n",
    "print(sympy.solve((2 + i) * x ** 2 - (5 - i) * x + 2 - 2 * i))"
   ]
  },
  {
   "cell_type": "markdown",
   "metadata": {},
   "source": [
    "## Пример №10"
   ]
  },
  {
   "cell_type": "code",
   "execution_count": 16,
   "metadata": {},
   "outputs": [
    {
     "name": "stdout",
     "output_type": "stream",
     "text": [
      "[-2.0 + 1.0*I, 2.0 - 1.0*I]\n"
     ]
    }
   ],
   "source": [
    "x = sympy.Symbol(\"x\")\n",
    "i = complex(0, 1)\n",
    "print(sympy.solve(x ** 2 - 3 + 4 * i))"
   ]
  },
  {
   "cell_type": "markdown",
   "metadata": {},
   "source": [
    "## Пример №11"
   ]
  },
  {
   "cell_type": "code",
   "execution_count": 17,
   "metadata": {},
   "outputs": [
    {
     "name": "stdout",
     "output_type": "stream",
     "text": [
      "(28984688.5+34989570.5j)\n"
     ]
    }
   ],
   "source": [
    "i = complex(0, 1)\n",
    "print(-(3 + 5 * i) ** 10 - 25 * (3 * i - 9) / 2 + 8 * i)"
   ]
  },
  {
   "cell_type": "markdown",
   "metadata": {},
   "source": [
    "## Пример №12"
   ]
  },
  {
   "cell_type": "code",
   "execution_count": 18,
   "metadata": {},
   "outputs": [
    {
     "name": "stdout",
     "output_type": "stream",
     "text": [
      "3.9999999999999996\n",
      "1.0471975511965976\n",
      "60\n"
     ]
    }
   ],
   "source": [
    "z = complex(2, 2 * math.sqrt(3))\n",
    "print(abs(z))\n",
    "print(cmath.phase(z))\n",
    "print(round(math.degrees(cmath.phase(z))))"
   ]
  },
  {
   "cell_type": "markdown",
   "metadata": {},
   "source": [
    "## Пример №13"
   ]
  },
  {
   "cell_type": "code",
   "execution_count": 19,
   "metadata": {},
   "outputs": [
    {
     "name": "stdout",
     "output_type": "stream",
     "text": [
      "(-0.19999999999999982+5.6000000000000005j)\n",
      "(-1.8648648648648647+0.1891891891891892j)\n",
      "(-30-10j)\n"
     ]
    }
   ],
   "source": [
    "zl = complex(-4, -9)\n",
    "z2 = complex(1, -8)\n",
    "print(complex(zl - sympy.conjugate(z2)) / complex(z2 + sympy.conjugate(zl)))\n",
    "i = complex(0, 1)\n",
    "print((1 + 2 * i) * (-1 + 5 * i) / (6 - i))\n",
    "z = complex(1, 2)\n",
    "p = (1 + 3 * i) * z**2 + (-5 + 6 * i) * z + (2 - i)\n",
    "print(p)"
   ]
  },
  {
   "cell_type": "markdown",
   "metadata": {},
   "source": [
    "# Примеры решения задач"
   ]
  },
  {
   "cell_type": "markdown",
   "metadata": {},
   "source": [
    "## Приведите число $z = -3 +3\\sqrt{3}i$ к тригонометрическому виду."
   ]
  },
  {
   "cell_type": "code",
   "execution_count": 3,
   "metadata": {},
   "outputs": [
    {
     "name": "stdout",
     "output_type": "stream",
     "text": [
      "120\n",
      "6.0\n"
     ]
    }
   ],
   "source": [
    "z = -3 + 3 * math.sqrt(3) * 1j\n",
    "fi = round(math.degrees(cmath.phase(z)))\n",
    "print(fi)\n",
    "r = abs(z)\n",
    "print(r)"
   ]
  },
  {
   "cell_type": "markdown",
   "metadata": {},
   "source": [
    "## Пусть $z_{1} = -1 + 4i, z_{2} = 1 + i.$ Вычислите $\\frac{z_{1}}{z_{2}} + \\frac{z_{2}}{z_{1}}$"
   ]
  },
  {
   "cell_type": "code",
   "execution_count": 4,
   "metadata": {},
   "outputs": [
    {
     "name": "stdout",
     "output_type": "stream",
     "text": [
      "(-2.323529411764706+1.2058823529411764j)\n"
     ]
    }
   ],
   "source": [
    "z1 = -1 + 4j\n",
    "z2 = 1 + 1j\n",
    "print((z1 / z2.conjugate()) + z2 / z1)"
   ]
  },
  {
   "cell_type": "markdown",
   "metadata": {},
   "source": [
    "## Вычислите значение многочлена $P(z) = (-4+4i)z^2 + (-1 +3i)z + (-2-3i)$ в точке $z = 1+3i$"
   ]
  },
  {
   "cell_type": "code",
   "execution_count": 5,
   "metadata": {},
   "outputs": [
    {
     "name": "stdout",
     "output_type": "stream",
     "text": [
      "(-4-59j)\n"
     ]
    }
   ],
   "source": [
    "z = 1 + 3j\n",
    "p = (-4 + 4j) * (z * z) + (-1 + 3j) * z + (-2 - 3j)\n",
    "print(p)"
   ]
  },
  {
   "cell_type": "markdown",
   "metadata": {},
   "source": [
    "## Найдите комплексные корни уравнения $x^2 +8x + 20 = 0$"
   ]
  },
  {
   "cell_type": "code",
   "execution_count": 6,
   "metadata": {},
   "outputs": [
    {
     "name": "stdout",
     "output_type": "stream",
     "text": [
      "[-4 - 2*I, -4 + 2*I]\n"
     ]
    }
   ],
   "source": [
    "x = sympy.Symbol(\"x\")\n",
    "print(sympy.solve(x ** 2 + 8 * x + 20))"
   ]
  },
  {
   "cell_type": "markdown",
   "metadata": {},
   "source": [
    "## Вычислите модуль и аргумент числа $z = -6$"
   ]
  },
  {
   "cell_type": "code",
   "execution_count": 7,
   "metadata": {},
   "outputs": [
    {
     "name": "stdout",
     "output_type": "stream",
     "text": [
      "180 6.0\n"
     ]
    }
   ],
   "source": [
    "z = complex(-6, 0)\n",
    "print(round(math.degrees(cmath.phase(z))), abs(z))"
   ]
  },
  {
   "cell_type": "markdown",
   "metadata": {},
   "source": [
    "## Приведите число $z = 6 - 6i$ к тригонометрическому виду."
   ]
  },
  {
   "cell_type": "code",
   "execution_count": 8,
   "metadata": {},
   "outputs": [
    {
     "name": "stdout",
     "output_type": "stream",
     "text": [
      "45\n",
      "8.48528137423857\n",
      "(4.4575048871930445-7.220155828003307j)\n"
     ]
    }
   ],
   "source": [
    "z = complex(6, 6)\n",
    "print(round(math.degrees(cmath.phase(z))))\n",
    "r = abs(z)\n",
    "print(r)\n",
    "c = r * (math.cos(-45) + 1j * math.sin(-45))\n",
    "print(c)"
   ]
  },
  {
   "cell_type": "markdown",
   "metadata": {},
   "source": [
    "## Вычислите значение выражения $\\frac{(5+6i)(-1+6i)}{5-i}$ и представьте реузльтат в виде $a + bi$"
   ]
  },
  {
   "cell_type": "code",
   "execution_count": 9,
   "metadata": {},
   "outputs": [
    {
     "name": "stdout",
     "output_type": "stream",
     "text": [
      "(-8.807692307692307+3.0384615384615383j)\n"
     ]
    }
   ],
   "source": [
    "print(((5+6j)*(-1+6j))/(5-1j))"
   ]
  },
  {
   "cell_type": "markdown",
   "metadata": {},
   "source": [
    "## Пусть $z_{1} = -1 + 2i, z_{2} = -1 + 5i$. Вычислите $\\frac{\\overline{z_{1}} - z_{2}}{z_{1}+\\overline{z_{2}}}$"
   ]
  },
  {
   "cell_type": "code",
   "execution_count": 10,
   "metadata": {},
   "outputs": [
    {
     "name": "stdout",
     "output_type": "stream",
     "text": [
      "(1.6153846153846154+1.0769230769230769j)\n"
     ]
    }
   ],
   "source": [
    "z1 = -1 + 2j\n",
    "z2 = -1 + 5j\n",
    "print((z1.conjugate() - z2) / (z1 + z2.conjugate()))"
   ]
  },
  {
   "cell_type": "markdown",
   "metadata": {},
   "source": [
    "## Вычислите значение выражения $\\frac{(2-4i)(3-4i)}{2 + 5i}$ и представьте результат в виде  $a + bi$"
   ]
  },
  {
   "cell_type": "code",
   "execution_count": 28,
   "metadata": {},
   "outputs": [
    {
     "name": "stdout",
     "output_type": "stream",
     "text": [
      "(-4.137931034482759+0.3448275862068966j)\n"
     ]
    }
   ],
   "source": [
    "print(((2-4j)*(3-4j))/(2+5j))"
   ]
  },
  {
   "cell_type": "markdown",
   "metadata": {},
   "source": [
    "# Решение собственной задачи с использованием комплексных чисел"
   ]
  },
  {
   "cell_type": "markdown",
   "metadata": {},
   "source": [
    "Необходимо найти корни кубического уравнения: $x^3 + 3x^2 - 3x + 1$."
   ]
  },
  {
   "cell_type": "code",
   "execution_count": 39,
   "metadata": {},
   "outputs": [
    {
     "name": "stdout",
     "output_type": "stream",
     "text": [
      "The roots are: ([x], {(-1 - 2**(1/3)/(-1/2 - sqrt(3)*I/2) - 2**(2/3)*(-1/2 - sqrt(3)*I/2),), (-2**(2/3) - 2**(1/3) - 1,), (-1 - 2**(2/3)*(-1/2 + sqrt(3)*I/2) - 2**(1/3)/(-1/2 + sqrt(3)*I/2),)})\n"
     ]
    }
   ],
   "source": [
    "x = sympy.Symbol('x')\n",
    "a = 1\n",
    "b = 3\n",
    "c = 3\n",
    "\n",
    "eq = [x**3 + 3*x**2 - 3*x + 1]\n",
    "\n",
    "roots = sympy.solve(eq, set=True)\n",
    "\n",
    "print(f\"The roots are: {roots}\")"
   ]
  }
 ],
 "metadata": {
  "kernelspec": {
   "display_name": "Python 3",
   "language": "python",
   "name": "python3"
  },
  "language_info": {
   "codemirror_mode": {
    "name": "ipython",
    "version": 3
   },
   "file_extension": ".py",
   "mimetype": "text/x-python",
   "name": "python",
   "nbconvert_exporter": "python",
   "pygments_lexer": "ipython3",
   "version": "3.8.3"
  }
 },
 "nbformat": 4,
 "nbformat_minor": 5
}
